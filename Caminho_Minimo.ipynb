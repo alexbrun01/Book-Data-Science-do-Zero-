{
  "nbformat": 4,
  "nbformat_minor": 0,
  "metadata": {
    "colab": {
      "provenance": [],
      "include_colab_link": true
    },
    "kernelspec": {
      "name": "python3",
      "display_name": "Python 3"
    }
  },
  "cells": [
    {
      "cell_type": "markdown",
      "metadata": {
        "id": "view-in-github",
        "colab_type": "text"
      },
      "source": [
        "<a href=\"https://colab.research.google.com/github/alexbrun01/Book-Data-Science-do-Zero-/blob/main/Caminho_Minimo.ipynb\" target=\"_parent\"><img src=\"https://colab.research.google.com/assets/colab-badge.svg\" alt=\"Open In Colab\"/></a>"
      ]
    },
    {
      "cell_type": "markdown",
      "metadata": {
        "id": "tmoQl7gURQ7s"
      },
      "source": [
        "# Exemplo de utilização da biblioteca Networkx para grafos\n",
        "\n",
        "## Autor: Hemerson Pistori (pistori@ucdb.br)\n",
        "\n",
        "Neste exemplo eu calculo e mostro um caminho de custo mínimo ligando dois vértices. Aqui tem um vídeo meu explicando o algoritmo de Dijkstra: [\"Caminho de Custo Mínimo usando Djikstra\"](https://youtu.be/njhbUoXhvac)"
      ]
    },
    {
      "cell_type": "code",
      "metadata": {
        "id": "FQ-BLoRDA-vF",
        "colab": {
          "base_uri": "https://localhost:8080/"
        },
        "outputId": "db79f6bc-6cc8-496f-cbe3-c8b035b50c8d"
      },
      "source": [
        "# Importa uma biblioteca para trabalhar com grafos \n",
        "import networkx as nx \n",
        "\n",
        "# Cria um grafo vazio\n",
        "G = nx.Graph()\n",
        "\n",
        "# Coloca os vértices e arestas em uma lista\n",
        "vertices=['a', 'b', 'c', 'd','e','f','g']\n",
        "arestas=[('a','b',{'weight': 2}),('a','c',{'weight': 1}),('b','c',{'weight': 1}),\n",
        "         ('b','e',{'weight': 1}),('c','f',{'weight': 10}),('e','f',{'weight': 4}),\n",
        "         ('f','g',{'weight': 2}),('d','g',{'weight': 1}),('c','d',{'weight': 4})                                         \n",
        "        ]\n",
        "\n",
        "\n",
        "# Coloca os vértices e arestas no grafo usando as listas\n",
        "G.add_nodes_from(vertices)\n",
        "G.add_edges_from(arestas)\n",
        "\n",
        "# Descobre o caminho de custo mínimo (ccm) do vértice 'a' até 'e' \n",
        "ccm = nx.dijkstra_path(G,source = 'a', target = 'e')\n",
        "\n",
        "# Mostra a sequência de vértices do caminho mínimo\n",
        "print('Caminho de custo mínimo: ',ccm)\n",
        "\n",
        "# Mostra qual o tamanho do caminho (note que usei outra forma mais simples de passar os parâmetros)\n",
        "print('Tamanho do caminho de custo mínimo: ',nx.dijkstra_path_length(G,'a','e'))\n",
        "\n",
        "# Importante: no exercício da disciplina os alunos precisam IMPLEMENTAR o\n",
        "# algoritmo de Dijkstra e não apenas usar uma função pronta para ganhar\n",
        "# todos os PIC$"
      ],
      "execution_count": null,
      "outputs": [
        {
          "output_type": "stream",
          "name": "stdout",
          "text": [
            "Caminho de custo mínimo:  ['a', 'b', 'e']\n",
            "Tamanho do caminho de custo mínimo:  3\n"
          ]
        }
      ]
    },
    {
      "cell_type": "markdown",
      "metadata": {
        "id": "tlz-CgWwqCjL"
      },
      "source": [
        "# Visualizando o grafo e o menor caminho\n",
        "\n",
        "Existem várias formas de visualização e abaixo eu mostra uma delas (tem que mergulhar na documentação da biblioteca e em outros exemplos da internet para encontrar outras). Aprendi esta forma vendo este exemplo aqui, mas mudei algumas pequenas coisas: ['NetworkXBasics'](http://avinashu.com/tutorial/pythontutorialnew/NetworkXBasics.html)\n",
        "\n"
      ]
    },
    {
      "cell_type": "code",
      "metadata": {
        "id": "LRsCe9zwQMoP",
        "colab": {
          "base_uri": "https://localhost:8080/",
          "height": 248
        },
        "outputId": "3698042d-8e2b-423c-ad70-4f7cf9842e41"
      },
      "source": [
        "# Importa uma biblioteca para gerar figuras e gráficos\n",
        "import matplotlib.pyplot as plt\n",
        "\n",
        "# Guarda os pesos de cada aresta em um dicionário\n",
        "pesos =nx.get_edge_attributes(G,'weight')\n",
        "\n",
        "# Separa as arestas que fazem parte do menor caminho e guarda em arestas_vermelhas\n",
        "arestas_vermelhas = list(zip(ccm,ccm[1:]))\n",
        "\n",
        "# Marca os vértices que estão no CCM para serem pintados de azul e os outros de branco\n",
        "cor_vertices = ['yellow' if not node in ccm else 'green' for node in G.nodes()]\n",
        "\n",
        "# Marca as arestas que estão no CCM para serem pintados de vermelho e as outras de preto\n",
        "cor_arestas = ['black' if not edge in arestas_vermelhas else 'red' for edge in G.edges()]\n",
        "\n",
        "# Calcula automaticamente a posição de cada vértice \n",
        "# Note que as posições mudam de uma execução para a outra, dá para fazer diferente\n",
        "# e fixar cada posição\n",
        "\n",
        "pos=nx.spring_layout(G) \n",
        "\n",
        "# Prepara os vértices para serem desenhados usando as cores pré-determinadas e o tamanho 400\n",
        "nx.draw_networkx(G, pos,node_color= cor_vertices,edge_color= cor_arestas, node_size=400)\n",
        "\n",
        "# Preparar para mostrar os pesos de cada aresta (sem isso mostra apenas as linhas)\n",
        "nx.draw_networkx_edge_labels(G, pos, edge_labels=pesos)\n",
        "\n",
        "# Mostra o grafo\n",
        "plt.show()"
      ],
      "execution_count": null,
      "outputs": [
        {
          "output_type": "display_data",
          "data": {
            "text/plain": [
              "<Figure size 432x288 with 1 Axes>"
            ],
            "image/png": "[encoded data removed]"
          },
          "metadata": {}
        }
      ]
    }
  ]
}
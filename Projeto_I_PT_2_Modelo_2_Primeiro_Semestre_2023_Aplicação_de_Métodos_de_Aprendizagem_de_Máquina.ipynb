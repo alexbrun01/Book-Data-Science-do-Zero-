{
  "cells": [
    {
      "cell_type": "markdown",
      "metadata": {
        "id": "view-in-github",
        "colab_type": "text"
      },
      "source": [
        "<a href=\"https://colab.research.google.com/github/alexbrun01/Book-Data-Science-do-Zero-/blob/main/Projeto_I_PT_2_Modelo_2_Primeiro_Semestre_2023_Aplica%C3%A7%C3%A3o_de_M%C3%A9todos_de_Aprendizagem_de_M%C3%A1quina.ipynb\" target=\"_parent\"><img src=\"https://colab.research.google.com/assets/colab-badge.svg\" alt=\"Open In Colab\"/></a>"
      ]
    },
    {
      "cell_type": "markdown",
      "metadata": {
        "id": "i9QUlVySwMio"
      },
      "source": [
        "# Projeto I - Modelo 2  - Primeiro Semestre 2023 - Aplicação de Métodos de Aprendizagem de Máquina"
      ]
    },
    {
      "cell_type": "markdown",
      "source": [
        "Nome do Acadêmico: Alexandre Bruno Dos Santos\n",
        "\n",
        "Matrícula: 1947015\n",
        "\n",
        "Nome do Acadêmico: Diogo de Paiva Carneiro\n",
        "\n",
        "Matrícula: 3289185\n",
        "\n",
        "Nome do Acadêmico: Suzana Aparecida Alves\n",
        "\n",
        "Matrícula: 2468442"
      ],
      "metadata": {
        "id": "agbSXCGOF8KR"
      }
    },
    {
      "cell_type": "markdown",
      "metadata": {
        "id": "dVbfs1afwk6C"
      },
      "source": [
        "#Definição do Tema\n",
        "\n",
        "\n",
        "\n"
      ]
    },
    {
      "cell_type": "markdown",
      "metadata": {
        "id": "r9VkdDx5wp9V"
      },
      "source": [
        "Atualmente houve um aumento de pessoas interessadas no mercado financeiro, com isso nasceu a necesidade de buscar estudar os padrões de movimentações dos valores de ativos na bolsa, sendo assim, o intuito aqui é poder estudar um ativo e expecifico e poder analisar padrões e prever valores. \n",
        "\n",
        "( Metodo: Arvore de Decisões )"
      ]
    },
    {
      "cell_type": "markdown",
      "metadata": {
        "id": "_0HpGDMwwxVA"
      },
      "source": [
        "#1 Instalando as bibliotecas"
      ]
    },
    {
      "cell_type": "code",
      "execution_count": 23,
      "metadata": {
        "colab": {
          "base_uri": "https://localhost:8080/"
        },
        "id": "dNve4aZd_pvN",
        "outputId": "36d085b4-d5bd-4df1-9335-14767f03e005"
      },
      "outputs": [
        {
          "output_type": "stream",
          "name": "stdout",
          "text": [
            "Looking in indexes: https://pypi.org/simple, https://us-python.pkg.dev/colab-wheels/public/simple/\n",
            "Requirement already satisfied: pandas in /usr/local/lib/python3.10/dist-packages (1.5.3)\n",
            "Requirement already satisfied: yfinance in /usr/local/lib/python3.10/dist-packages (0.2.18)\n",
            "Requirement already satisfied: scikit-learn in /usr/local/lib/python3.10/dist-packages (1.2.2)\n",
            "Requirement already satisfied: matplotlib in /usr/local/lib/python3.10/dist-packages (3.7.1)\n",
            "Requirement already satisfied: python-dateutil>=2.8.1 in /usr/local/lib/python3.10/dist-packages (from pandas) (2.8.2)\n",
            "Requirement already satisfied: pytz>=2020.1 in /usr/local/lib/python3.10/dist-packages (from pandas) (2022.7.1)\n",
            "Requirement already satisfied: numpy>=1.21.0 in /usr/local/lib/python3.10/dist-packages (from pandas) (1.22.4)\n",
            "Requirement already satisfied: requests>=2.26 in /usr/local/lib/python3.10/dist-packages (from yfinance) (2.27.1)\n",
            "Requirement already satisfied: multitasking>=0.0.7 in /usr/local/lib/python3.10/dist-packages (from yfinance) (0.0.11)\n",
            "Requirement already satisfied: lxml>=4.9.1 in /usr/local/lib/python3.10/dist-packages (from yfinance) (4.9.2)\n",
            "Requirement already satisfied: appdirs>=1.4.4 in /usr/local/lib/python3.10/dist-packages (from yfinance) (1.4.4)\n",
            "Requirement already satisfied: frozendict>=2.3.4 in /usr/local/lib/python3.10/dist-packages (from yfinance) (2.3.7)\n",
            "Requirement already satisfied: cryptography>=3.3.2 in /usr/local/lib/python3.10/dist-packages (from yfinance) (40.0.2)\n",
            "Requirement already satisfied: beautifulsoup4>=4.11.1 in /usr/local/lib/python3.10/dist-packages (from yfinance) (4.11.2)\n",
            "Requirement already satisfied: html5lib>=1.1 in /usr/local/lib/python3.10/dist-packages (from yfinance) (1.1)\n",
            "Requirement already satisfied: scipy>=1.3.2 in /usr/local/lib/python3.10/dist-packages (from scikit-learn) (1.10.1)\n",
            "Requirement already satisfied: joblib>=1.1.1 in /usr/local/lib/python3.10/dist-packages (from scikit-learn) (1.2.0)\n",
            "Requirement already satisfied: threadpoolctl>=2.0.0 in /usr/local/lib/python3.10/dist-packages (from scikit-learn) (3.1.0)\n",
            "Requirement already satisfied: contourpy>=1.0.1 in /usr/local/lib/python3.10/dist-packages (from matplotlib) (1.0.7)\n",
            "Requirement already satisfied: cycler>=0.10 in /usr/local/lib/python3.10/dist-packages (from matplotlib) (0.11.0)\n",
            "Requirement already satisfied: fonttools>=4.22.0 in /usr/local/lib/python3.10/dist-packages (from matplotlib) (4.39.3)\n",
            "Requirement already satisfied: kiwisolver>=1.0.1 in /usr/local/lib/python3.10/dist-packages (from matplotlib) (1.4.4)\n",
            "Requirement already satisfied: packaging>=20.0 in /usr/local/lib/python3.10/dist-packages (from matplotlib) (23.1)\n",
            "Requirement already satisfied: pillow>=6.2.0 in /usr/local/lib/python3.10/dist-packages (from matplotlib) (8.4.0)\n",
            "Requirement already satisfied: pyparsing>=2.3.1 in /usr/local/lib/python3.10/dist-packages (from matplotlib) (3.0.9)\n",
            "Requirement already satisfied: soupsieve>1.2 in /usr/local/lib/python3.10/dist-packages (from beautifulsoup4>=4.11.1->yfinance) (2.4.1)\n",
            "Requirement already satisfied: cffi>=1.12 in /usr/local/lib/python3.10/dist-packages (from cryptography>=3.3.2->yfinance) (1.15.1)\n",
            "Requirement already satisfied: six>=1.9 in /usr/local/lib/python3.10/dist-packages (from html5lib>=1.1->yfinance) (1.16.0)\n",
            "Requirement already satisfied: webencodings in /usr/local/lib/python3.10/dist-packages (from html5lib>=1.1->yfinance) (0.5.1)\n",
            "Requirement already satisfied: urllib3<1.27,>=1.21.1 in /usr/local/lib/python3.10/dist-packages (from requests>=2.26->yfinance) (1.26.15)\n",
            "Requirement already satisfied: certifi>=2017.4.17 in /usr/local/lib/python3.10/dist-packages (from requests>=2.26->yfinance) (2022.12.7)\n",
            "Requirement already satisfied: charset-normalizer~=2.0.0 in /usr/local/lib/python3.10/dist-packages (from requests>=2.26->yfinance) (2.0.12)\n",
            "Requirement already satisfied: idna<4,>=2.5 in /usr/local/lib/python3.10/dist-packages (from requests>=2.26->yfinance) (3.4)\n",
            "Requirement already satisfied: pycparser in /usr/local/lib/python3.10/dist-packages (from cffi>=1.12->cryptography>=3.3.2->yfinance) (2.21)\n"
          ]
        }
      ],
      "source": [
        "#Importando bibliotecas \n",
        "\n",
        "!pip install pandas yfinance scikit-learn matplotlib\n",
        "\n",
        "import pandas as pd\n",
        "import yfinance as yf\n",
        "from sklearn.model_selection import train_test_split, GridSearchCV\n",
        "from sklearn.preprocessing import StandardScaler\n",
        "from sklearn.tree import DecisionTreeRegressor\n",
        "from sklearn.metrics import mean_squared_error, r2_score\n",
        "import matplotlib.pyplot as plt"
      ]
    },
    {
      "cell_type": "markdown",
      "metadata": {
        "id": "0YMRyUNsw-t5"
      },
      "source": [
        "#2 Definindo o Papel que desejamos consultar"
      ]
    },
    {
      "cell_type": "code",
      "execution_count": 24,
      "metadata": {
        "id": "ylrmUmEJCjFh"
      },
      "outputs": [],
      "source": [
        "# Definindo o codigo da ação\n",
        "ticker = 'BBDC4.SA'"
      ]
    },
    {
      "cell_type": "markdown",
      "metadata": {
        "id": "4zGHi8ZvxFiw"
      },
      "source": [
        "#3 Escolhendo os periodos que vamos querer usar como parametro"
      ]
    },
    {
      "cell_type": "code",
      "execution_count": 25,
      "metadata": {
        "id": "HH0ZI2bdCsPK"
      },
      "outputs": [],
      "source": [
        "# Definindo período dos dados\n",
        "start_date = '2015-01-01'\n",
        "end_date = '2023-07-30'\n"
      ]
    },
    {
      "cell_type": "markdown",
      "metadata": {
        "id": "a4iS8Bh6xGFl"
      },
      "source": [
        "#4 Baixando os dados das ações"
      ]
    },
    {
      "cell_type": "code",
      "execution_count": 26,
      "metadata": {
        "colab": {
          "base_uri": "https://localhost:8080/"
        },
        "id": "yCXZwOWrC2ZY",
        "outputId": "e116ec16-8b37-4e83-ce8d-e97803391b68"
      },
      "outputs": [
        {
          "output_type": "stream",
          "name": "stdout",
          "text": [
            "\r[*********************100%***********************]  1 of 1 completed\n"
          ]
        }
      ],
      "source": [
        "data = yf.download(ticker, start=start_date, end=end_date)"
      ]
    },
    {
      "cell_type": "markdown",
      "metadata": {
        "id": "XsLNRqMvxgV3"
      },
      "source": [
        "# 5 Preparando os Data Frames"
      ]
    },
    {
      "cell_type": "code",
      "execution_count": 27,
      "metadata": {
        "colab": {
          "base_uri": "https://localhost:8080/"
        },
        "id": "yY7piat9C2SX",
        "outputId": "972e0061-c4ff-4333-a401-089721c650e3"
      },
      "outputs": [
        {
          "output_type": "stream",
          "name": "stdout",
          "text": [
            "                 Open      Close\n",
            "Date                            \n",
            "2015-01-02  13.621853  13.445455\n",
            "2015-01-05  13.214177  13.465055\n",
            "2015-01-06  13.488574  13.908010\n",
            "2015-01-07  14.088328  14.460724\n",
            "2015-01-08  14.503844  14.535203\n",
            "...               ...        ...\n",
            "2023-06-05  16.200001  16.330000\n",
            "2023-06-06  16.400000  16.590000\n",
            "2023-06-07  16.740000  16.580000\n",
            "2023-06-09  16.670000  16.860001\n",
            "2023-06-12  16.950001  16.700001\n",
            "\n",
            "[2098 rows x 2 columns]\n"
          ]
        }
      ],
      "source": [
        "# Visualizando os dados de abertura e fechamento\n",
        "\n",
        "print(data[['Open', 'Close']])"
      ]
    },
    {
      "cell_type": "code",
      "execution_count": 28,
      "metadata": {
        "id": "7XdAD8IhD-jp"
      },
      "outputs": [],
      "source": [
        "# Criando um DataFrame com os preços de fechamento\n",
        "\n",
        "df = pd.DataFrame(data[\"Close\"])"
      ]
    },
    {
      "cell_type": "code",
      "execution_count": 29,
      "metadata": {
        "id": "vAQJojImEYh2"
      },
      "outputs": [],
      "source": [
        "# Removendo valores ausentes\n",
        "\n",
        "df.dropna(inplace=True)  "
      ]
    },
    {
      "cell_type": "markdown",
      "metadata": {
        "id": "jU6iob0XyAFK"
      },
      "source": [
        "#6 Criando uma coluna com os preços medios de fechamento das ações"
      ]
    },
    {
      "cell_type": "code",
      "execution_count": 30,
      "metadata": {
        "id": "FBEJyE1EFDOf"
      },
      "outputs": [],
      "source": [
        "df[\"Avg Close\"] = df[\"Close\"].rolling(window=21).mean()"
      ]
    },
    {
      "cell_type": "code",
      "execution_count": 31,
      "metadata": {
        "colab": {
          "base_uri": "https://localhost:8080/",
          "height": 447
        },
        "id": "q7ML7y_UHF4V",
        "outputId": "ea051a98-15da-4463-e165-e9c4d7832bed"
      },
      "outputs": [
        {
          "output_type": "execute_result",
          "data": {
            "text/plain": [
              "[<matplotlib.lines.Line2D at 0x7f04a9ffcd60>]"
            ]
          },
          "metadata": {},
          "execution_count": 31
        },
        {
          "output_type": "display_data",
          "data": {
            "text/plain": [
              "<Figure size 640x480 with 1 Axes>"
            ],
            "image/png": "[encoded data removed]"
          },
          "metadata": {}
        }
      ],
      "source": [
        "# Plot dos preços de fechamento\n",
        "plt.plot(df['Close'], label='Preço de Fechamento')"
      ]
    },
    {
      "cell_type": "code",
      "execution_count": 32,
      "metadata": {
        "colab": {
          "base_uri": "https://localhost:8080/",
          "height": 447
        },
        "id": "0EetvvsYHfoH",
        "outputId": "d6497324-9ae1-4b2a-85e9-4f6aaf7ebd86"
      },
      "outputs": [
        {
          "output_type": "execute_result",
          "data": {
            "text/plain": [
              "[<matplotlib.lines.Line2D at 0x7f04a7e574c0>]"
            ]
          },
          "metadata": {},
          "execution_count": 32
        },
        {
          "output_type": "display_data",
          "data": {
            "text/plain": [
              "<Figure size 640x480 with 1 Axes>"
            ],
            "image/png": "[encoded data removed]"
          },
          "metadata": {}
        }
      ],
      "source": [
        "# Plot da média móvel de curto prazo (exemplo: 50 períodos)\n",
        "df['SMA_short'] = df['Close'].rolling(window=50).mean()\n",
        "plt.plot(df['SMA_short'], label='Média Móvel Curto Prazo (50 períodos)')"
      ]
    },
    {
      "cell_type": "code",
      "execution_count": 33,
      "metadata": {
        "colab": {
          "base_uri": "https://localhost:8080/",
          "height": 447
        },
        "id": "NIafacEpIxYS",
        "outputId": "edc487e5-e191-4100-e645-c33bd49dcad6"
      },
      "outputs": [
        {
          "output_type": "execute_result",
          "data": {
            "text/plain": [
              "[<matplotlib.lines.Line2D at 0x7f04a5d2d750>]"
            ]
          },
          "metadata": {},
          "execution_count": 33
        },
        {
          "output_type": "display_data",
          "data": {
            "text/plain": [
              "<Figure size 640x480 with 1 Axes>"
            ],
            "image/png": "[encoded data removed]"
          },
          "metadata": {}
        }
      ],
      "source": [
        "## Esse trecho de código calcula as médias móveis curtas!\n",
        "\n",
        "# As média movéis é uma técnica que suaviza os dados de preço ao longo do tempo,fornecendo uma tendência geral dos dados\n",
        "\n",
        "# Cálculo das médias móveis curtas e longas\n",
        "df['SMA_short'] = df['Close'].rolling(window=21).mean()\n",
        "df['SMA_long'] = df['Close'].rolling(window=50).mean()\n",
        "\n",
        "\n",
        "# Plot dos pontos de entrada e saída\n",
        "df['Signal'] = 0  # Inicializa a coluna Signal com valor zero porque é inicializada com o valor zero para todos os registros do DataFrame.\n",
        "\n",
        "df.loc[df['SMA_short'] > df['SMA_long'], 'Signal'] = 1  # Definição dos pontos de entrada. Agora com os valores 1 nos pontos em que a média móvel curta é maior que a média móvel longa indicando um ponto de entrada. \n",
        "\n",
        "df.loc[df['SMA_short'] < df['SMA_long'], 'Signal'] = -1  # Definição dos pontos de saída.  Da mesma forma, a coluna 'Signal' é atualizada com os valores -1 nos pontos em que a média móvel curta é menor que a média móvel longa, indicando um ponto de saída.\n",
        "\n",
        "# Plot dos pontos de entrada e saída\n",
        "plt.plot(df[df['Signal'] == 1].index, df[df['Signal'] == 1]['Close'], '^', markersize=10, color='g', label='Ponto de Entrada')\n",
        "plt.plot(df[df['Signal'] == -1].index, df[df['Signal'] == -1]['Close'], 'v', markersize=10, color='r', label='Ponto de Saída')"
      ]
    },
    {
      "cell_type": "markdown",
      "metadata": {
        "id": "P7D7ENDhSFSE"
      },
      "source": [
        "Esse trecho de código calcula as médias móveis curtas, As média movéis é uma técnica que suaviza os dados de preço ao longo do tempo, fornecendo uma tendência geral dos dados "
      ]
    },
    {
      "cell_type": "markdown",
      "metadata": {
        "id": "NtyMmHh0yLhW"
      },
      "source": [
        "#7 Separando os dados em treinamento e teste"
      ]
    },
    {
      "cell_type": "code",
      "execution_count": 34,
      "metadata": {
        "id": "K5ZKa5FrWm3u"
      },
      "outputs": [],
      "source": [
        "X = df[[\"Avg Close\"]] # Aqui definimos a variável X como uma coluna do DataFrame contendo os valores da média de fechamento\n",
        "\n",
        "y = df[\"Close\"] # Aqui definimos a variável y como a coluna do DataFrame df contendo os valores de fechamento do ativo.\n",
        " \n",
        "X_train, X_test, y_train, y_test = train_test_split(X, y, test_size=0.2, random_state=42)"
      ]
    },
    {
      "cell_type": "markdown",
      "metadata": {
        "id": "XsiBDz8yE1kf"
      },
      "source": [
        "# A função \" train_test_split \"  é utilizada para dividir os dados em conjuntos de treinamento e teste. A função recebe as variáveis X e y, além de outros parâmetros.\n",
        "\n",
        "# O parâmetro test_size=0.2 indica que 20% dos dados serão usados para teste, enquanto 80% dos dados serão usados para treinamento.\n",
        "\n",
        "# O parâmetro random_state=42 é usado para fixar a aleatoriedade na divisão dos dados. Isso garante que a divisão seja reproduzível, ou seja, ao executar o código novamente, a mesma divisão será obtida."
      ]
    },
    {
      "cell_type": "markdown",
      "metadata": {
        "id": "lTVYuKyGyOrV"
      },
      "source": [
        "#8 Treinando o modelo Arvore de decisões "
      ]
    },
    {
      "cell_type": "code",
      "execution_count": 35,
      "metadata": {
        "id": "wc50kjgjlv8g"
      },
      "outputs": [],
      "source": [
        " # Remove as amostras com valores ausentes do DataFrame\n",
        " df.dropna(inplace=True) "
      ]
    },
    {
      "cell_type": "code",
      "execution_count": 36,
      "metadata": {
        "id": "wKT9uurSIFvZ"
      },
      "outputs": [],
      "source": [
        "from sklearn.impute import SimpleImputer\n",
        "\n",
        "imputer = SimpleImputer(strategy='mean') # Cria um objeto SimpleImputer para preencher os valores ausentes com a média. Ele permite preencher os valores ausentes usando diferentes estratégias\n",
        "\n",
        "X_train_imputed = imputer.fit_transform(X_train) # fit_transform é aplicado ao conjuntos X_train para preencher os valores ausentes com base na estratégia "
      ]
    },
    {
      "cell_type": "code",
      "execution_count": 37,
      "metadata": {
        "colab": {
          "base_uri": "https://localhost:8080/",
          "height": 74
        },
        "id": "zXlSb1BnL6O8",
        "outputId": "408ba415-e9c8-4593-b91a-6fbe79f10b52"
      },
      "outputs": [
        {
          "output_type": "execute_result",
          "data": {
            "text/plain": [
              "DecisionTreeRegressor()"
            ],
            "text/html": [
              "<style>#sk-container-id-1 {color: black;background-color: white;}#sk-container-id-1 pre{padding: 0;}#sk-container-id-1 div.sk-toggleable {background-color: white;}#sk-container-id-1 label.sk-toggleable__label {cursor: pointer;display: block;width: 100%;margin-bottom: 0;padding: 0.3em;box-sizing: border-box;text-align: center;}#sk-container-id-1 label.sk-toggleable__label-arrow:before {content: \"▸\";float: left;margin-right: 0.25em;color: #696969;}#sk-container-id-1 label.sk-toggleable__label-arrow:hover:before {color: black;}#sk-container-id-1 div.sk-estimator:hover label.sk-toggleable__label-arrow:before {color: black;}#sk-container-id-1 div.sk-toggleable__content {max-height: 0;max-width: 0;overflow: hidden;text-align: left;background-color: #f0f8ff;}#sk-container-id-1 div.sk-toggleable__content pre {margin: 0.2em;color: black;border-radius: 0.25em;background-color: #f0f8ff;}#sk-container-id-1 input.sk-toggleable__control:checked~div.sk-toggleable__content {max-height: 200px;max-width: 100%;overflow: auto;}#sk-container-id-1 input.sk-toggleable__control:checked~label.sk-toggleable__label-arrow:before {content: \"▾\";}#sk-container-id-1 div.sk-estimator input.sk-toggleable__control:checked~label.sk-toggleable__label {background-color: #d4ebff;}#sk-container-id-1 div.sk-label input.sk-toggleable__control:checked~label.sk-toggleable__label {background-color: #d4ebff;}#sk-container-id-1 input.sk-hidden--visually {border: 0;clip: rect(1px 1px 1px 1px);clip: rect(1px, 1px, 1px, 1px);height: 1px;margin: -1px;overflow: hidden;padding: 0;position: absolute;width: 1px;}#sk-container-id-1 div.sk-estimator {font-family: monospace;background-color: #f0f8ff;border: 1px dotted black;border-radius: 0.25em;box-sizing: border-box;margin-bottom: 0.5em;}#sk-container-id-1 div.sk-estimator:hover {background-color: #d4ebff;}#sk-container-id-1 div.sk-parallel-item::after {content: \"\";width: 100%;border-bottom: 1px solid gray;flex-grow: 1;}#sk-container-id-1 div.sk-label:hover label.sk-toggleable__label {background-color: #d4ebff;}#sk-container-id-1 div.sk-serial::before {content: \"\";position: absolute;border-left: 1px solid gray;box-sizing: border-box;top: 0;bottom: 0;left: 50%;z-index: 0;}#sk-container-id-1 div.sk-serial {display: flex;flex-direction: column;align-items: center;background-color: white;padding-right: 0.2em;padding-left: 0.2em;position: relative;}#sk-container-id-1 div.sk-item {position: relative;z-index: 1;}#sk-container-id-1 div.sk-parallel {display: flex;align-items: stretch;justify-content: center;background-color: white;position: relative;}#sk-container-id-1 div.sk-item::before, #sk-container-id-1 div.sk-parallel-item::before {content: \"\";position: absolute;border-left: 1px solid gray;box-sizing: border-box;top: 0;bottom: 0;left: 50%;z-index: -1;}#sk-container-id-1 div.sk-parallel-item {display: flex;flex-direction: column;z-index: 1;position: relative;background-color: white;}#sk-container-id-1 div.sk-parallel-item:first-child::after {align-self: flex-end;width: 50%;}#sk-container-id-1 div.sk-parallel-item:last-child::after {align-self: flex-start;width: 50%;}#sk-container-id-1 div.sk-parallel-item:only-child::after {width: 0;}#sk-container-id-1 div.sk-dashed-wrapped {border: 1px dashed gray;margin: 0 0.4em 0.5em 0.4em;box-sizing: border-box;padding-bottom: 0.4em;background-color: white;}#sk-container-id-1 div.sk-label label {font-family: monospace;font-weight: bold;display: inline-block;line-height: 1.2em;}#sk-container-id-1 div.sk-label-container {text-align: center;}#sk-container-id-1 div.sk-container {/* jupyter's `normalize.less` sets `[hidden] { display: none; }` but bootstrap.min.css set `[hidden] { display: none !important; }` so we also need the `!important` here to be able to override the default hidden behavior on the sphinx rendered scikit-learn.org. See: https://github.com/scikit-learn/scikit-learn/issues/21755 */display: inline-block !important;position: relative;}#sk-container-id-1 div.sk-text-repr-fallback {display: none;}</style><div id=\"sk-container-id-1\" class=\"sk-top-container\"><div class=\"sk-text-repr-fallback\"><pre>DecisionTreeRegressor()</pre><b>In a Jupyter environment, please rerun this cell to show the HTML representation or trust the notebook. <br />On GitHub, the HTML representation is unable to render, please try loading this page with nbviewer.org.</b></div><div class=\"sk-container\" hidden><div class=\"sk-item\"><div class=\"sk-estimator sk-toggleable\"><input class=\"sk-toggleable__control sk-hidden--visually\" id=\"sk-estimator-id-1\" type=\"checkbox\" checked><label for=\"sk-estimator-id-1\" class=\"sk-toggleable__label sk-toggleable__label-arrow\">DecisionTreeRegressor</label><div class=\"sk-toggleable__content\"><pre>DecisionTreeRegressor()</pre></div></div></div></div></div>"
            ]
          },
          "metadata": {},
          "execution_count": 37
        }
      ],
      "source": [
        "# Treina o modelo com os dados imputados\n",
        "model = DecisionTreeRegressor()\n",
        "model.fit(X_train_imputed, y_train)"
      ]
    },
    {
      "cell_type": "markdown",
      "metadata": {
        "id": "yC2rlNXoyXe-"
      },
      "source": [
        "# 9 Teste com Previsão do modelo treinado"
      ]
    },
    {
      "cell_type": "code",
      "execution_count": 38,
      "metadata": {
        "id": "mf1bGE1k2yrE"
      },
      "outputs": [],
      "source": [
        "X = X.dropna()\n",
        "y = y[X.index]\n",
        "\n",
        "from sklearn.impute import SimpleImputer\n",
        "\n",
        "imputer = SimpleImputer(strategy='mean')\n",
        "X = imputer.fit_transform(X)\n",
        "\n"
      ]
    },
    {
      "cell_type": "code",
      "execution_count": 39,
      "metadata": {
        "id": "2qvNDlUAQ3Qh"
      },
      "outputs": [],
      "source": [
        "X_train, X_test, y_train, y_test = train_test_split(X, y, test_size=0.2, random_state=42)\n"
      ]
    },
    {
      "cell_type": "markdown",
      "metadata": {
        "id": "4JHTnZzYyuUa"
      },
      "source": [
        "# 10 Plotando o grafico"
      ]
    },
    {
      "cell_type": "code",
      "execution_count": 40,
      "metadata": {
        "colab": {
          "base_uri": "https://localhost:8080/",
          "height": 559
        },
        "id": "adznecvMbABe",
        "outputId": "2ea95ed3-8420-430c-d101-bcd0a3313bf4"
      },
      "outputs": [
        {
          "output_type": "stream",
          "name": "stdout",
          "text": [
            "\r[*********************100%***********************]  1 of 1 completed\n"
          ]
        },
        {
          "output_type": "display_data",
          "data": {
            "text/html": [
              "<html>\n",
              "<head><meta charset=\"utf-8\" /></head>\n",
              "<body>\n",
              "    <div>            <script src=\"https://cdnjs.cloudflare.com/ajax/libs/mathjax/2.7.5/MathJax.js?config=TeX-AMS-MML_SVG\"></script><script type=\"text/javascript\">if (window.MathJax && window.MathJax.Hub && window.MathJax.Hub.Config) {window.MathJax.Hub.Config({SVG: {font: \"STIX-Web\"}});}</script>                <script type=\"text/javascript\">window.PlotlyConfig = {MathJaxConfig: 'local'};</script>\n",
              "        <script src=\"https://cdn.plot.ly/plotly-2.18.2.min.js\"></script>                <div id=\"cfb2fb74-279c-49e9-9266-cd4bae2d6d46\" class=\"plotly-graph-div\" style=\"height:525px; width:100%;\"></div>            <script type=\"text/javascript\">                                    window.PLOTLYENV=window.PLOTLYENV || {};                                    if (document.getElementById(\"cfb2fb74-279c-49e9-9266-cd4bae2d6d46\")) {                    Plotly.newPlot(                        \"cfb2fb74-279c-49e9-9266-cd4bae2d6d46\",                        [{\"mode\":\"lines\",\"name\":\"Previs\\u00f5es\",\"x\":[\"2023-04-22T00:00:00\",\"2023-04-23T00:00:00\",\"2023-04-24T00:00:00\",\"2023-04-25T00:00:00\",\"2023-04-26T00:00:00\",\"2023-04-27T00:00:00\",\"2023-04-28T00:00:00\",\"2023-04-29T00:00:00\",\"2023-04-30T00:00:00\",\"2023-05-01T00:00:00\",\"2023-05-02T00:00:00\",\"2023-05-03T00:00:00\",\"2023-05-04T00:00:00\",\"2023-05-05T00:00:00\",\"2023-05-06T00:00:00\",\"2023-05-07T00:00:00\",\"2023-05-08T00:00:00\",\"2023-05-09T00:00:00\",\"2023-05-10T00:00:00\",\"2023-05-11T00:00:00\",\"2023-05-12T00:00:00\",\"2023-05-13T00:00:00\",\"2023-05-14T00:00:00\",\"2023-05-15T00:00:00\",\"2023-05-16T00:00:00\",\"2023-05-17T00:00:00\",\"2023-05-18T00:00:00\",\"2023-05-19T00:00:00\",\"2023-05-20T00:00:00\",\"2023-05-21T00:00:00\",\"2023-05-22T00:00:00\",\"2023-05-23T00:00:00\",\"2023-05-24T00:00:00\",\"2023-05-25T00:00:00\",\"2023-05-26T00:00:00\",\"2023-05-27T00:00:00\",\"2023-05-28T00:00:00\",\"2023-05-29T00:00:00\",\"2023-05-30T00:00:00\",\"2023-05-31T00:00:00\",\"2023-06-01T00:00:00\",\"2023-06-02T00:00:00\",\"2023-06-03T00:00:00\",\"2023-06-04T00:00:00\",\"2023-06-05T00:00:00\",\"2023-06-06T00:00:00\",\"2023-06-07T00:00:00\",\"2023-06-08T00:00:00\",\"2023-06-09T00:00:00\",\"2023-06-10T00:00:00\",\"2023-06-11T00:00:00\",\"2023-06-12T00:00:00\",\"2023-06-13T00:00:00\",\"2023-06-14T00:00:00\",\"2023-06-15T00:00:00\",\"2023-06-16T00:00:00\",\"2023-06-17T00:00:00\",\"2023-06-18T00:00:00\",\"2023-06-19T00:00:00\",\"2023-06-20T00:00:00\",\"2023-06-21T00:00:00\",\"2023-06-22T00:00:00\",\"2023-06-23T00:00:00\",\"2023-06-24T00:00:00\",\"2023-06-25T00:00:00\",\"2023-06-26T00:00:00\",\"2023-06-27T00:00:00\",\"2023-06-28T00:00:00\",\"2023-06-29T00:00:00\",\"2023-06-30T00:00:00\",\"2023-07-01T00:00:00\",\"2023-07-02T00:00:00\",\"2023-07-03T00:00:00\",\"2023-07-04T00:00:00\",\"2023-07-05T00:00:00\",\"2023-07-06T00:00:00\",\"2023-07-07T00:00:00\",\"2023-07-08T00:00:00\",\"2023-07-09T00:00:00\",\"2023-07-10T00:00:00\",\"2023-07-11T00:00:00\",\"2023-07-12T00:00:00\",\"2023-07-13T00:00:00\",\"2023-07-14T00:00:00\",\"2023-07-15T00:00:00\",\"2023-07-16T00:00:00\",\"2023-07-17T00:00:00\",\"2023-07-18T00:00:00\",\"2023-07-19T00:00:00\",\"2023-07-20T00:00:00\",\"2023-07-21T00:00:00\",\"2023-07-22T00:00:00\",\"2023-07-23T00:00:00\",\"2023-07-24T00:00:00\",\"2023-07-25T00:00:00\",\"2023-07-26T00:00:00\",\"2023-07-27T00:00:00\",\"2023-07-28T00:00:00\",\"2023-07-29T00:00:00\",\"2023-07-30T00:00:00\"],\"y\":[150.47000122070312,153.83999633789062,143.77999877929688,153.83999633789062,175.05999755859375,148.11000061035156,170.2100067138672,180.9499969482422,125.0199966430664,145.42999267578125,156.57000732421875,132.22999572753906,142.4499969482422,153.0399932861328,142.99000549316406,145.30999755859375,142.47999572753906,155.9600067138672,159.27999877929688,180.57000732421875,153.83999633789062,145.92999267578125,135.27000427246094,159.22000122070312,174.72000122070312,148.11000061035156,163.1999969482422,163.77000427246094,172.7899932861328,161.3800048828125,136.5,160.07000732421875,167.57000732421875,172.10000610351562,130.05999755859375,166.55999755859375,175.16000366210938,175.05999755859375,138.3800048828125,150.1699981689453,148.11000061035156,164.50999450683594,162.36000061035156,132.3699951171875,164.50999450683594,138.97999572753906,172.89999389648438,172.38999938964844,150.77000427246094,147.11000061035156,152.9499969482422,151.02999877929688,142.4499969482422,160.77000427246094,170.02999877929688,142.47999572753906,175.16000366210938,143.77999877929688,152.05999755859375,125.0199966430664,172.19000244140625,151.9199981689453,138.33999633789062,153.83999633789062,166.64999389648438,150.42999267578125,172.69000244140625,136.5,152.33999633789062,142.4499969482422,183.16990661621094,149.63999938964844],\"type\":\"scatter\"}],                        {\"template\":{\"data\":{\"histogram2dcontour\":[{\"type\":\"histogram2dcontour\",\"colorbar\":{\"outlinewidth\":0,\"ticks\":\"\"},\"colorscale\":[[0.0,\"#0d0887\"],[0.1111111111111111,\"#46039f\"],[0.2222222222222222,\"#7201a8\"],[0.3333333333333333,\"#9c179e\"],[0.4444444444444444,\"#bd3786\"],[0.5555555555555556,\"#d8576b\"],[0.6666666666666666,\"#ed7953\"],[0.7777777777777778,\"#fb9f3a\"],[0.8888888888888888,\"#fdca26\"],[1.0,\"#f0f921\"]]}],\"choropleth\":[{\"type\":\"choropleth\",\"colorbar\":{\"outlinewidth\":0,\"ticks\":\"\"}}],\"histogram2d\":[{\"type\":\"histogram2d\",\"colorbar\":{\"outlinewidth\":0,\"ticks\":\"\"},\"colorscale\":[[0.0,\"#0d0887\"],[0.1111111111111111,\"#46039f\"],[0.2222222222222222,\"#7201a8\"],[0.3333333333333333,\"#9c179e\"],[0.4444444444444444,\"#bd3786\"],[0.5555555555555556,\"#d8576b\"],[0.6666666666666666,\"#ed7953\"],[0.7777777777777778,\"#fb9f3a\"],[0.8888888888888888,\"#fdca26\"],[1.0,\"#f0f921\"]]}],\"heatmap\":[{\"type\":\"heatmap\",\"colorbar\":{\"outlinewidth\":0,\"ticks\":\"\"},\"colorscale\":[[0.0,\"#0d0887\"],[0.1111111111111111,\"#46039f\"],[0.2222222222222222,\"#7201a8\"],[0.3333333333333333,\"#9c179e\"],[0.4444444444444444,\"#bd3786\"],[0.5555555555555556,\"#d8576b\"],[0.6666666666666666,\"#ed7953\"],[0.7777777777777778,\"#fb9f3a\"],[0.8888888888888888,\"#fdca26\"],[1.0,\"#f0f921\"]]}],\"heatmapgl\":[{\"type\":\"heatmapgl\",\"colorbar\":{\"outlinewidth\":0,\"ticks\":\"\"},\"colorscale\":[[0.0,\"#0d0887\"],[0.1111111111111111,\"#46039f\"],[0.2222222222222222,\"#7201a8\"],[0.3333333333333333,\"#9c179e\"],[0.4444444444444444,\"#bd3786\"],[0.5555555555555556,\"#d8576b\"],[0.6666666666666666,\"#ed7953\"],[0.7777777777777778,\"#fb9f3a\"],[0.8888888888888888,\"#fdca26\"],[1.0,\"#f0f921\"]]}],\"contourcarpet\":[{\"type\":\"contourcarpet\",\"colorbar\":{\"outlinewidth\":0,\"ticks\":\"\"}}],\"contour\":[{\"type\":\"contour\",\"colorbar\":{\"outlinewidth\":0,\"ticks\":\"\"},\"colorscale\":[[0.0,\"#0d0887\"],[0.1111111111111111,\"#46039f\"],[0.2222222222222222,\"#7201a8\"],[0.3333333333333333,\"#9c179e\"],[0.4444444444444444,\"#bd3786\"],[0.5555555555555556,\"#d8576b\"],[0.6666666666666666,\"#ed7953\"],[0.7777777777777778,\"#fb9f3a\"],[0.8888888888888888,\"#fdca26\"],[1.0,\"#f0f921\"]]}],\"surface\":[{\"type\":\"surface\",\"colorbar\":{\"outlinewidth\":0,\"ticks\":\"\"},\"colorscale\":[[0.0,\"#0d0887\"],[0.1111111111111111,\"#46039f\"],[0.2222222222222222,\"#7201a8\"],[0.3333333333333333,\"#9c179e\"],[0.4444444444444444,\"#bd3786\"],[0.5555555555555556,\"#d8576b\"],[0.6666666666666666,\"#ed7953\"],[0.7777777777777778,\"#fb9f3a\"],[0.8888888888888888,\"#fdca26\"],[1.0,\"#f0f921\"]]}],\"mesh3d\":[{\"type\":\"mesh3d\",\"colorbar\":{\"outlinewidth\":0,\"ticks\":\"\"}}],\"scatter\":[{\"fillpattern\":{\"fillmode\":\"overlay\",\"size\":10,\"solidity\":0.2},\"type\":\"scatter\"}],\"parcoords\":[{\"type\":\"parcoords\",\"line\":{\"colorbar\":{\"outlinewidth\":0,\"ticks\":\"\"}}}],\"scatterpolargl\":[{\"type\":\"scatterpolargl\",\"marker\":{\"colorbar\":{\"outlinewidth\":0,\"ticks\":\"\"}}}],\"bar\":[{\"error_x\":{\"color\":\"#2a3f5f\"},\"error_y\":{\"color\":\"#2a3f5f\"},\"marker\":{\"line\":{\"color\":\"#E5ECF6\",\"width\":0.5},\"pattern\":{\"fillmode\":\"overlay\",\"size\":10,\"solidity\":0.2}},\"type\":\"bar\"}],\"scattergeo\":[{\"type\":\"scattergeo\",\"marker\":{\"colorbar\":{\"outlinewidth\":0,\"ticks\":\"\"}}}],\"scatterpolar\":[{\"type\":\"scatterpolar\",\"marker\":{\"colorbar\":{\"outlinewidth\":0,\"ticks\":\"\"}}}],\"histogram\":[{\"marker\":{\"pattern\":{\"fillmode\":\"overlay\",\"size\":10,\"solidity\":0.2}},\"type\":\"histogram\"}],\"scattergl\":[{\"type\":\"scattergl\",\"marker\":{\"colorbar\":{\"outlinewidth\":0,\"ticks\":\"\"}}}],\"scatter3d\":[{\"type\":\"scatter3d\",\"line\":{\"colorbar\":{\"outlinewidth\":0,\"ticks\":\"\"}},\"marker\":{\"colorbar\":{\"outlinewidth\":0,\"ticks\":\"\"}}}],\"scattermapbox\":[{\"type\":\"scattermapbox\",\"marker\":{\"colorbar\":{\"outlinewidth\":0,\"ticks\":\"\"}}}],\"scatterternary\":[{\"type\":\"scatterternary\",\"marker\":{\"colorbar\":{\"outlinewidth\":0,\"ticks\":\"\"}}}],\"scattercarpet\":[{\"type\":\"scattercarpet\",\"marker\":{\"colorbar\":{\"outlinewidth\":0,\"ticks\":\"\"}}}],\"carpet\":[{\"aaxis\":{\"endlinecolor\":\"#2a3f5f\",\"gridcolor\":\"white\",\"linecolor\":\"white\",\"minorgridcolor\":\"white\",\"startlinecolor\":\"#2a3f5f\"},\"baxis\":{\"endlinecolor\":\"#2a3f5f\",\"gridcolor\":\"white\",\"linecolor\":\"white\",\"minorgridcolor\":\"white\",\"startlinecolor\":\"#2a3f5f\"},\"type\":\"carpet\"}],\"table\":[{\"cells\":{\"fill\":{\"color\":\"#EBF0F8\"},\"line\":{\"color\":\"white\"}},\"header\":{\"fill\":{\"color\":\"#C8D4E3\"},\"line\":{\"color\":\"white\"}},\"type\":\"table\"}],\"barpolar\":[{\"marker\":{\"line\":{\"color\":\"#E5ECF6\",\"width\":0.5},\"pattern\":{\"fillmode\":\"overlay\",\"size\":10,\"solidity\":0.2}},\"type\":\"barpolar\"}],\"pie\":[{\"automargin\":true,\"type\":\"pie\"}]},\"layout\":{\"autotypenumbers\":\"strict\",\"colorway\":[\"#636efa\",\"#EF553B\",\"#00cc96\",\"#ab63fa\",\"#FFA15A\",\"#19d3f3\",\"#FF6692\",\"#B6E880\",\"#FF97FF\",\"#FECB52\"],\"font\":{\"color\":\"#2a3f5f\"},\"hovermode\":\"closest\",\"hoverlabel\":{\"align\":\"left\"},\"paper_bgcolor\":\"white\",\"plot_bgcolor\":\"#E5ECF6\",\"polar\":{\"bgcolor\":\"#E5ECF6\",\"angularaxis\":{\"gridcolor\":\"white\",\"linecolor\":\"white\",\"ticks\":\"\"},\"radialaxis\":{\"gridcolor\":\"white\",\"linecolor\":\"white\",\"ticks\":\"\"}},\"ternary\":{\"bgcolor\":\"#E5ECF6\",\"aaxis\":{\"gridcolor\":\"white\",\"linecolor\":\"white\",\"ticks\":\"\"},\"baxis\":{\"gridcolor\":\"white\",\"linecolor\":\"white\",\"ticks\":\"\"},\"caxis\":{\"gridcolor\":\"white\",\"linecolor\":\"white\",\"ticks\":\"\"}},\"coloraxis\":{\"colorbar\":{\"outlinewidth\":0,\"ticks\":\"\"}},\"colorscale\":{\"sequential\":[[0.0,\"#0d0887\"],[0.1111111111111111,\"#46039f\"],[0.2222222222222222,\"#7201a8\"],[0.3333333333333333,\"#9c179e\"],[0.4444444444444444,\"#bd3786\"],[0.5555555555555556,\"#d8576b\"],[0.6666666666666666,\"#ed7953\"],[0.7777777777777778,\"#fb9f3a\"],[0.8888888888888888,\"#fdca26\"],[1.0,\"#f0f921\"]],\"sequentialminus\":[[0.0,\"#0d0887\"],[0.1111111111111111,\"#46039f\"],[0.2222222222222222,\"#7201a8\"],[0.3333333333333333,\"#9c179e\"],[0.4444444444444444,\"#bd3786\"],[0.5555555555555556,\"#d8576b\"],[0.6666666666666666,\"#ed7953\"],[0.7777777777777778,\"#fb9f3a\"],[0.8888888888888888,\"#fdca26\"],[1.0,\"#f0f921\"]],\"diverging\":[[0,\"#8e0152\"],[0.1,\"#c51b7d\"],[0.2,\"#de77ae\"],[0.3,\"#f1b6da\"],[0.4,\"#fde0ef\"],[0.5,\"#f7f7f7\"],[0.6,\"#e6f5d0\"],[0.7,\"#b8e186\"],[0.8,\"#7fbc41\"],[0.9,\"#4d9221\"],[1,\"#276419\"]]},\"xaxis\":{\"gridcolor\":\"white\",\"linecolor\":\"white\",\"ticks\":\"\",\"title\":{\"standoff\":15},\"zerolinecolor\":\"white\",\"automargin\":true,\"zerolinewidth\":2},\"yaxis\":{\"gridcolor\":\"white\",\"linecolor\":\"white\",\"ticks\":\"\",\"title\":{\"standoff\":15},\"zerolinecolor\":\"white\",\"automargin\":true,\"zerolinewidth\":2},\"scene\":{\"xaxis\":{\"backgroundcolor\":\"#E5ECF6\",\"gridcolor\":\"white\",\"linecolor\":\"white\",\"showbackground\":true,\"ticks\":\"\",\"zerolinecolor\":\"white\",\"gridwidth\":2},\"yaxis\":{\"backgroundcolor\":\"#E5ECF6\",\"gridcolor\":\"white\",\"linecolor\":\"white\",\"showbackground\":true,\"ticks\":\"\",\"zerolinecolor\":\"white\",\"gridwidth\":2},\"zaxis\":{\"backgroundcolor\":\"#E5ECF6\",\"gridcolor\":\"white\",\"linecolor\":\"white\",\"showbackground\":true,\"ticks\":\"\",\"zerolinecolor\":\"white\",\"gridwidth\":2}},\"shapedefaults\":{\"line\":{\"color\":\"#2a3f5f\"}},\"annotationdefaults\":{\"arrowcolor\":\"#2a3f5f\",\"arrowhead\":0,\"arrowwidth\":1},\"geo\":{\"bgcolor\":\"white\",\"landcolor\":\"#E5ECF6\",\"subunitcolor\":\"white\",\"showland\":true,\"showlakes\":true,\"lakecolor\":\"white\"},\"title\":{\"x\":0.05},\"mapbox\":{\"style\":\"light\"}}},\"title\":{\"text\":\"Previs\\u00f5es do Modelo para Valores Futuros\"},\"xaxis\":{\"title\":{\"text\":\"Data\"}},\"yaxis\":{\"title\":{\"text\":\"Valor\"}}},                        {\"responsive\": true}                    ).then(function(){\n",
              "                            \n",
              "var gd = document.getElementById('cfb2fb74-279c-49e9-9266-cd4bae2d6d46');\n",
              "var x = new MutationObserver(function (mutations, observer) {{\n",
              "        var display = window.getComputedStyle(gd).display;\n",
              "        if (!display || display === 'none') {{\n",
              "            console.log([gd, 'removed!']);\n",
              "            Plotly.purge(gd);\n",
              "            observer.disconnect();\n",
              "        }}\n",
              "}});\n",
              "\n",
              "// Listen for the removal of the full notebook cells\n",
              "var notebookContainer = gd.closest('#notebook-container');\n",
              "if (notebookContainer) {{\n",
              "    x.observe(notebookContainer, {childList: true});\n",
              "}}\n",
              "\n",
              "// Listen for the clearing of the current output cell\n",
              "var outputEl = gd.closest('.output');\n",
              "if (outputEl) {{\n",
              "    x.observe(outputEl, {childList: true});\n",
              "}}\n",
              "\n",
              "                        })                };                            </script>        </div>\n",
              "</body>\n",
              "</html>"
            ]
          },
          "metadata": {}
        }
      ],
      "source": [
        "import pandas as pd\n",
        "import yfinance as yf\n",
        "from sklearn.model_selection import train_test_split\n",
        "from sklearn.tree import DecisionTreeRegressor\n",
        "from sklearn.impute import SimpleImputer\n",
        "import plotly.graph_objects as go\n",
        "\n",
        "# Definir o ticker do ativo\n",
        "ticker = \"AAPL\"\n",
        "\n",
        "# Obter dados históricos do Yahoo Finance\n",
        "data = yf.download(ticker, start=\"2022-01-01\", end=\"2023-12-31\")\n",
        "\n",
        "# Criar DataFrame com os preços de fechamento\n",
        "df = pd.DataFrame(data[\"Close\"])\n",
        "\n",
        "# Definir variável alvo (y) como os preços de fechamento\n",
        "y = df[\"Close\"]\n",
        "\n",
        "# Definir variáveis de entrada (X) como os dias anteriores de preços de fechamento\n",
        "X = pd.concat([y.shift(1), y.shift(2), y.shift(3), y.shift(4)], axis=1)\n",
        "X.columns = [\"Lag1\", \"Lag2\", \"Lag3\", \"Lag4\"]\n",
        "\n",
        "# Remover as linhas com valores ausentes\n",
        "X = X.dropna()\n",
        "y = y[X.index]\n",
        "\n",
        "# Preencher valores ausentes\n",
        "imputer = SimpleImputer(strategy=\"mean\")\n",
        "X = imputer.fit_transform(X)\n",
        "\n",
        "# Dividir os dados em conjunto de treinamento e teste\n",
        "X_train, X_test, y_train, y_test = train_test_split(X, y, test_size=0.2, random_state=42)\n",
        "\n",
        "# Criar o modelo de regressão de árvore de decisão\n",
        "model = DecisionTreeRegressor()\n",
        "\n",
        "# Treinar o modelo\n",
        "model.fit(X_train, y_train)\n",
        "\n",
        "# Fazer previsões para o conjunto de treinamento e teste\n",
        "y_pred_train = model.predict(X_train)\n",
        "y_pred_test = model.predict(X_test)\n",
        "\n",
        "# Definindo a data de início e fim do intervalo desejado\n",
        "data_inicio = '2023-04-22'\n",
        "data_fim = '2023-07-30'\n",
        "\n",
        "# Criando o intervalo de datas com a frequência desejada\n",
        "datas = pd.date_range(start=data_inicio, end=data_fim, freq='D')\n",
        "\n",
        "# Criando um gráfico de linhas interativo\n",
        "fig = go.Figure()\n",
        "\n",
        "# Adicionando a linha de previsões para valores futuros\n",
        "fig.add_trace(go.Scatter(\n",
        "    x=datas,\n",
        "    y=y_pred_test,\n",
        "    mode='lines',\n",
        "    name='Previsões'\n",
        "))\n",
        "\n",
        "# Definindo o layout do gráfico\n",
        "fig.update_layout(\n",
        "    title='Previsões do Modelo para Valores Futuros',\n",
        "    xaxis_title='Data',\n",
        "    yaxis_title='Valor'\n",
        ")\n",
        "\n",
        "# Exibindo o gráfico interativo\n",
        "fig.show()\n"
      ]
    },
    {
      "cell_type": "code",
      "execution_count": 41,
      "metadata": {
        "colab": {
          "base_uri": "https://localhost:8080/",
          "height": 559
        },
        "id": "KY1u6kiTexub",
        "outputId": "f33126d7-df07-46fa-a1c4-5a3af7969b53"
      },
      "outputs": [
        {
          "output_type": "stream",
          "name": "stdout",
          "text": [
            "\r[*********************100%***********************]  1 of 1 completed\n"
          ]
        },
        {
          "output_type": "display_data",
          "data": {
            "text/html": [
              "<html>\n",
              "<head><meta charset=\"utf-8\" /></head>\n",
              "<body>\n",
              "    <div>            <script src=\"https://cdnjs.cloudflare.com/ajax/libs/mathjax/2.7.5/MathJax.js?config=TeX-AMS-MML_SVG\"></script><script type=\"text/javascript\">if (window.MathJax && window.MathJax.Hub && window.MathJax.Hub.Config) {window.MathJax.Hub.Config({SVG: {font: \"STIX-Web\"}});}</script>                <script type=\"text/javascript\">window.PlotlyConfig = {MathJaxConfig: 'local'};</script>\n",
              "        <script src=\"https://cdn.plot.ly/plotly-2.18.2.min.js\"></script>                <div id=\"19fdbcb8-cfb5-47ed-a58e-7aa6e19ea716\" class=\"plotly-graph-div\" style=\"height:525px; width:100%;\"></div>            <script type=\"text/javascript\">                                    window.PLOTLYENV=window.PLOTLYENV || {};                                    if (document.getElementById(\"19fdbcb8-cfb5-47ed-a58e-7aa6e19ea716\")) {                    Plotly.newPlot(                        \"19fdbcb8-cfb5-47ed-a58e-7aa6e19ea716\",                        [{\"mode\":\"lines\",\"name\":\"Valores Passados\",\"x\":[\"2023-04-24T00:00:00\",\"2023-04-25T00:00:00\",\"2023-04-26T00:00:00\",\"2023-04-27T00:00:00\",\"2023-04-28T00:00:00\",\"2023-05-02T00:00:00\",\"2023-05-03T00:00:00\",\"2023-05-04T00:00:00\",\"2023-05-05T00:00:00\",\"2023-05-08T00:00:00\",\"2023-05-09T00:00:00\",\"2023-05-10T00:00:00\",\"2023-05-11T00:00:00\",\"2023-05-12T00:00:00\",\"2023-05-15T00:00:00\",\"2023-05-16T00:00:00\",\"2023-05-17T00:00:00\",\"2023-05-18T00:00:00\",\"2023-05-19T00:00:00\",\"2023-05-22T00:00:00\",\"2023-05-23T00:00:00\",\"2023-05-24T00:00:00\",\"2023-05-25T00:00:00\",\"2023-05-26T00:00:00\",\"2023-05-29T00:00:00\",\"2023-05-30T00:00:00\",\"2023-05-31T00:00:00\",\"2023-06-01T00:00:00\",\"2023-06-02T00:00:00\",\"2023-06-05T00:00:00\",\"2023-06-06T00:00:00\",\"2023-06-07T00:00:00\",\"2023-06-09T00:00:00\",\"2023-06-12T00:00:00\"],\"y\":[13.399999618530273,13.699999809265137,13.5,13.760000228881836,13.850000381469727,13.649999618530273,13.75,14.069999694824219,14.770000457763672,15.319999694824219,15.170000076293945,15.199999809265137,15.399999618530273,15.470000267028809,15.710000038146973,15.720000267028809,15.649999618530273,15.699999809265137,16.079999923706055,15.920000076293945,16.049999237060547,15.5600004196167,16.1200008392334,16.1200008392334,16.139999389648438,15.699999809265137,15.510000228881836,15.779999732971191,15.779999732971191,16.329999923706055,16.59000015258789,16.579999923706055,16.860000610351562,16.700000762939453],\"type\":\"scatter\"},{\"mode\":\"lines\",\"name\":\"Valores Atuais\",\"x\":[\"2023-04-24T00:00:00\",\"2023-04-25T00:00:00\",\"2023-04-26T00:00:00\",\"2023-04-27T00:00:00\",\"2023-04-28T00:00:00\",\"2023-05-02T00:00:00\",\"2023-05-03T00:00:00\",\"2023-05-04T00:00:00\",\"2023-05-05T00:00:00\",\"2023-05-08T00:00:00\",\"2023-05-09T00:00:00\",\"2023-05-10T00:00:00\",\"2023-05-11T00:00:00\",\"2023-05-12T00:00:00\",\"2023-05-15T00:00:00\",\"2023-05-16T00:00:00\",\"2023-05-17T00:00:00\",\"2023-05-18T00:00:00\",\"2023-05-19T00:00:00\",\"2023-05-22T00:00:00\",\"2023-05-23T00:00:00\",\"2023-05-24T00:00:00\",\"2023-05-25T00:00:00\",\"2023-05-26T00:00:00\",\"2023-05-29T00:00:00\",\"2023-05-30T00:00:00\",\"2023-05-31T00:00:00\",\"2023-06-01T00:00:00\",\"2023-06-02T00:00:00\",\"2023-06-05T00:00:00\",\"2023-06-06T00:00:00\",\"2023-06-07T00:00:00\",\"2023-06-09T00:00:00\",\"2023-06-12T00:00:00\"],\"y\":[13.399999618530273,13.699999809265137,13.5,13.760000228881836,13.850000381469727,13.649999618530273,13.75,14.069999694824219,14.770000457763672,15.319999694824219,15.170000076293945,15.199999809265137,15.399999618530273,15.470000267028809,15.710000038146973,15.720000267028809,15.649999618530273,15.699999809265137,16.079999923706055,15.920000076293945,16.049999237060547,15.5600004196167,16.1200008392334,16.1200008392334,16.139999389648438,15.699999809265137,15.510000228881836,15.779999732971191,15.779999732971191,16.329999923706055,16.59000015258789,16.579999923706055,16.860000610351562,16.700000762939453],\"type\":\"scatter\"}],                        {\"template\":{\"data\":{\"histogram2dcontour\":[{\"type\":\"histogram2dcontour\",\"colorbar\":{\"outlinewidth\":0,\"ticks\":\"\"},\"colorscale\":[[0.0,\"#0d0887\"],[0.1111111111111111,\"#46039f\"],[0.2222222222222222,\"#7201a8\"],[0.3333333333333333,\"#9c179e\"],[0.4444444444444444,\"#bd3786\"],[0.5555555555555556,\"#d8576b\"],[0.6666666666666666,\"#ed7953\"],[0.7777777777777778,\"#fb9f3a\"],[0.8888888888888888,\"#fdca26\"],[1.0,\"#f0f921\"]]}],\"choropleth\":[{\"type\":\"choropleth\",\"colorbar\":{\"outlinewidth\":0,\"ticks\":\"\"}}],\"histogram2d\":[{\"type\":\"histogram2d\",\"colorbar\":{\"outlinewidth\":0,\"ticks\":\"\"},\"colorscale\":[[0.0,\"#0d0887\"],[0.1111111111111111,\"#46039f\"],[0.2222222222222222,\"#7201a8\"],[0.3333333333333333,\"#9c179e\"],[0.4444444444444444,\"#bd3786\"],[0.5555555555555556,\"#d8576b\"],[0.6666666666666666,\"#ed7953\"],[0.7777777777777778,\"#fb9f3a\"],[0.8888888888888888,\"#fdca26\"],[1.0,\"#f0f921\"]]}],\"heatmap\":[{\"type\":\"heatmap\",\"colorbar\":{\"outlinewidth\":0,\"ticks\":\"\"},\"colorscale\":[[0.0,\"#0d0887\"],[0.1111111111111111,\"#46039f\"],[0.2222222222222222,\"#7201a8\"],[0.3333333333333333,\"#9c179e\"],[0.4444444444444444,\"#bd3786\"],[0.5555555555555556,\"#d8576b\"],[0.6666666666666666,\"#ed7953\"],[0.7777777777777778,\"#fb9f3a\"],[0.8888888888888888,\"#fdca26\"],[1.0,\"#f0f921\"]]}],\"heatmapgl\":[{\"type\":\"heatmapgl\",\"colorbar\":{\"outlinewidth\":0,\"ticks\":\"\"},\"colorscale\":[[0.0,\"#0d0887\"],[0.1111111111111111,\"#46039f\"],[0.2222222222222222,\"#7201a8\"],[0.3333333333333333,\"#9c179e\"],[0.4444444444444444,\"#bd3786\"],[0.5555555555555556,\"#d8576b\"],[0.6666666666666666,\"#ed7953\"],[0.7777777777777778,\"#fb9f3a\"],[0.8888888888888888,\"#fdca26\"],[1.0,\"#f0f921\"]]}],\"contourcarpet\":[{\"type\":\"contourcarpet\",\"colorbar\":{\"outlinewidth\":0,\"ticks\":\"\"}}],\"contour\":[{\"type\":\"contour\",\"colorbar\":{\"outlinewidth\":0,\"ticks\":\"\"},\"colorscale\":[[0.0,\"#0d0887\"],[0.1111111111111111,\"#46039f\"],[0.2222222222222222,\"#7201a8\"],[0.3333333333333333,\"#9c179e\"],[0.4444444444444444,\"#bd3786\"],[0.5555555555555556,\"#d8576b\"],[0.6666666666666666,\"#ed7953\"],[0.7777777777777778,\"#fb9f3a\"],[0.8888888888888888,\"#fdca26\"],[1.0,\"#f0f921\"]]}],\"surface\":[{\"type\":\"surface\",\"colorbar\":{\"outlinewidth\":0,\"ticks\":\"\"},\"colorscale\":[[0.0,\"#0d0887\"],[0.1111111111111111,\"#46039f\"],[0.2222222222222222,\"#7201a8\"],[0.3333333333333333,\"#9c179e\"],[0.4444444444444444,\"#bd3786\"],[0.5555555555555556,\"#d8576b\"],[0.6666666666666666,\"#ed7953\"],[0.7777777777777778,\"#fb9f3a\"],[0.8888888888888888,\"#fdca26\"],[1.0,\"#f0f921\"]]}],\"mesh3d\":[{\"type\":\"mesh3d\",\"colorbar\":{\"outlinewidth\":0,\"ticks\":\"\"}}],\"scatter\":[{\"fillpattern\":{\"fillmode\":\"overlay\",\"size\":10,\"solidity\":0.2},\"type\":\"scatter\"}],\"parcoords\":[{\"type\":\"parcoords\",\"line\":{\"colorbar\":{\"outlinewidth\":0,\"ticks\":\"\"}}}],\"scatterpolargl\":[{\"type\":\"scatterpolargl\",\"marker\":{\"colorbar\":{\"outlinewidth\":0,\"ticks\":\"\"}}}],\"bar\":[{\"error_x\":{\"color\":\"#2a3f5f\"},\"error_y\":{\"color\":\"#2a3f5f\"},\"marker\":{\"line\":{\"color\":\"#E5ECF6\",\"width\":0.5},\"pattern\":{\"fillmode\":\"overlay\",\"size\":10,\"solidity\":0.2}},\"type\":\"bar\"}],\"scattergeo\":[{\"type\":\"scattergeo\",\"marker\":{\"colorbar\":{\"outlinewidth\":0,\"ticks\":\"\"}}}],\"scatterpolar\":[{\"type\":\"scatterpolar\",\"marker\":{\"colorbar\":{\"outlinewidth\":0,\"ticks\":\"\"}}}],\"histogram\":[{\"marker\":{\"pattern\":{\"fillmode\":\"overlay\",\"size\":10,\"solidity\":0.2}},\"type\":\"histogram\"}],\"scattergl\":[{\"type\":\"scattergl\",\"marker\":{\"colorbar\":{\"outlinewidth\":0,\"ticks\":\"\"}}}],\"scatter3d\":[{\"type\":\"scatter3d\",\"line\":{\"colorbar\":{\"outlinewidth\":0,\"ticks\":\"\"}},\"marker\":{\"colorbar\":{\"outlinewidth\":0,\"ticks\":\"\"}}}],\"scattermapbox\":[{\"type\":\"scattermapbox\",\"marker\":{\"colorbar\":{\"outlinewidth\":0,\"ticks\":\"\"}}}],\"scatterternary\":[{\"type\":\"scatterternary\",\"marker\":{\"colorbar\":{\"outlinewidth\":0,\"ticks\":\"\"}}}],\"scattercarpet\":[{\"type\":\"scattercarpet\",\"marker\":{\"colorbar\":{\"outlinewidth\":0,\"ticks\":\"\"}}}],\"carpet\":[{\"aaxis\":{\"endlinecolor\":\"#2a3f5f\",\"gridcolor\":\"white\",\"linecolor\":\"white\",\"minorgridcolor\":\"white\",\"startlinecolor\":\"#2a3f5f\"},\"baxis\":{\"endlinecolor\":\"#2a3f5f\",\"gridcolor\":\"white\",\"linecolor\":\"white\",\"minorgridcolor\":\"white\",\"startlinecolor\":\"#2a3f5f\"},\"type\":\"carpet\"}],\"table\":[{\"cells\":{\"fill\":{\"color\":\"#EBF0F8\"},\"line\":{\"color\":\"white\"}},\"header\":{\"fill\":{\"color\":\"#C8D4E3\"},\"line\":{\"color\":\"white\"}},\"type\":\"table\"}],\"barpolar\":[{\"marker\":{\"line\":{\"color\":\"#E5ECF6\",\"width\":0.5},\"pattern\":{\"fillmode\":\"overlay\",\"size\":10,\"solidity\":0.2}},\"type\":\"barpolar\"}],\"pie\":[{\"automargin\":true,\"type\":\"pie\"}]},\"layout\":{\"autotypenumbers\":\"strict\",\"colorway\":[\"#636efa\",\"#EF553B\",\"#00cc96\",\"#ab63fa\",\"#FFA15A\",\"#19d3f3\",\"#FF6692\",\"#B6E880\",\"#FF97FF\",\"#FECB52\"],\"font\":{\"color\":\"#2a3f5f\"},\"hovermode\":\"closest\",\"hoverlabel\":{\"align\":\"left\"},\"paper_bgcolor\":\"white\",\"plot_bgcolor\":\"#E5ECF6\",\"polar\":{\"bgcolor\":\"#E5ECF6\",\"angularaxis\":{\"gridcolor\":\"white\",\"linecolor\":\"white\",\"ticks\":\"\"},\"radialaxis\":{\"gridcolor\":\"white\",\"linecolor\":\"white\",\"ticks\":\"\"}},\"ternary\":{\"bgcolor\":\"#E5ECF6\",\"aaxis\":{\"gridcolor\":\"white\",\"linecolor\":\"white\",\"ticks\":\"\"},\"baxis\":{\"gridcolor\":\"white\",\"linecolor\":\"white\",\"ticks\":\"\"},\"caxis\":{\"gridcolor\":\"white\",\"linecolor\":\"white\",\"ticks\":\"\"}},\"coloraxis\":{\"colorbar\":{\"outlinewidth\":0,\"ticks\":\"\"}},\"colorscale\":{\"sequential\":[[0.0,\"#0d0887\"],[0.1111111111111111,\"#46039f\"],[0.2222222222222222,\"#7201a8\"],[0.3333333333333333,\"#9c179e\"],[0.4444444444444444,\"#bd3786\"],[0.5555555555555556,\"#d8576b\"],[0.6666666666666666,\"#ed7953\"],[0.7777777777777778,\"#fb9f3a\"],[0.8888888888888888,\"#fdca26\"],[1.0,\"#f0f921\"]],\"sequentialminus\":[[0.0,\"#0d0887\"],[0.1111111111111111,\"#46039f\"],[0.2222222222222222,\"#7201a8\"],[0.3333333333333333,\"#9c179e\"],[0.4444444444444444,\"#bd3786\"],[0.5555555555555556,\"#d8576b\"],[0.6666666666666666,\"#ed7953\"],[0.7777777777777778,\"#fb9f3a\"],[0.8888888888888888,\"#fdca26\"],[1.0,\"#f0f921\"]],\"diverging\":[[0,\"#8e0152\"],[0.1,\"#c51b7d\"],[0.2,\"#de77ae\"],[0.3,\"#f1b6da\"],[0.4,\"#fde0ef\"],[0.5,\"#f7f7f7\"],[0.6,\"#e6f5d0\"],[0.7,\"#b8e186\"],[0.8,\"#7fbc41\"],[0.9,\"#4d9221\"],[1,\"#276419\"]]},\"xaxis\":{\"gridcolor\":\"white\",\"linecolor\":\"white\",\"ticks\":\"\",\"title\":{\"standoff\":15},\"zerolinecolor\":\"white\",\"automargin\":true,\"zerolinewidth\":2},\"yaxis\":{\"gridcolor\":\"white\",\"linecolor\":\"white\",\"ticks\":\"\",\"title\":{\"standoff\":15},\"zerolinecolor\":\"white\",\"automargin\":true,\"zerolinewidth\":2},\"scene\":{\"xaxis\":{\"backgroundcolor\":\"#E5ECF6\",\"gridcolor\":\"white\",\"linecolor\":\"white\",\"showbackground\":true,\"ticks\":\"\",\"zerolinecolor\":\"white\",\"gridwidth\":2},\"yaxis\":{\"backgroundcolor\":\"#E5ECF6\",\"gridcolor\":\"white\",\"linecolor\":\"white\",\"showbackground\":true,\"ticks\":\"\",\"zerolinecolor\":\"white\",\"gridwidth\":2},\"zaxis\":{\"backgroundcolor\":\"#E5ECF6\",\"gridcolor\":\"white\",\"linecolor\":\"white\",\"showbackground\":true,\"ticks\":\"\",\"zerolinecolor\":\"white\",\"gridwidth\":2}},\"shapedefaults\":{\"line\":{\"color\":\"#2a3f5f\"}},\"annotationdefaults\":{\"arrowcolor\":\"#2a3f5f\",\"arrowhead\":0,\"arrowwidth\":1},\"geo\":{\"bgcolor\":\"white\",\"landcolor\":\"#E5ECF6\",\"subunitcolor\":\"white\",\"showland\":true,\"showlakes\":true,\"lakecolor\":\"white\"},\"title\":{\"x\":0.05},\"mapbox\":{\"style\":\"light\"}}},\"title\":{\"text\":\"Compara\\u00e7\\u00e3o entre Valores Passados, Valores Atuais e Previs\\u00f5es Futuras\"},\"xaxis\":{\"title\":{\"text\":\"Data\"}},\"yaxis\":{\"title\":{\"text\":\"Valor\"}}},                        {\"responsive\": true}                    ).then(function(){\n",
              "                            \n",
              "var gd = document.getElementById('19fdbcb8-cfb5-47ed-a58e-7aa6e19ea716');\n",
              "var x = new MutationObserver(function (mutations, observer) {{\n",
              "        var display = window.getComputedStyle(gd).display;\n",
              "        if (!display || display === 'none') {{\n",
              "            console.log([gd, 'removed!']);\n",
              "            Plotly.purge(gd);\n",
              "            observer.disconnect();\n",
              "        }}\n",
              "}});\n",
              "\n",
              "// Listen for the removal of the full notebook cells\n",
              "var notebookContainer = gd.closest('#notebook-container');\n",
              "if (notebookContainer) {{\n",
              "    x.observe(notebookContainer, {childList: true});\n",
              "}}\n",
              "\n",
              "// Listen for the clearing of the current output cell\n",
              "var outputEl = gd.closest('.output');\n",
              "if (outputEl) {{\n",
              "    x.observe(outputEl, {childList: true});\n",
              "}}\n",
              "\n",
              "                        })                };                            </script>        </div>\n",
              "</body>\n",
              "</html>"
            ]
          },
          "metadata": {}
        }
      ],
      "source": [
        "import yfinance as yf\n",
        "import pandas as pd\n",
        "import plotly.graph_objects as go\n",
        "\n",
        "# 1. Obtendo os dados originais\n",
        "ticker_symbol = 'BBDC4.SA'  # Substitua pelo símbolo do ticker desejado\n",
        "start_date = '2023-04-22'\n",
        "end_date = '2023-07-30'\n",
        "\n",
        "# Obtendo os dados do Yahoo Finance\n",
        "data = yf.download(ticker_symbol, start=start_date, end=end_date)\n",
        "\n",
        "# 2. Formatando os dados originais\n",
        "data = data[['Close']]  # Selecionando apenas a coluna \"Close\" (preço de fechamento)\n",
        "data.columns = ['Valor']  # Renomeando a coluna para \"Valor\"\n",
        "\n",
        "# 3. Filtrando os dados\n",
        "filtered_data = data[start_date:end_date]\n",
        "\n",
        "# 4. Criando o gráfico de comparação\n",
        "fig = go.Figure()\n",
        "\n",
        "# Adicionando a linha dos valores passados\n",
        "fig.add_trace(go.Scatter(\n",
        "    x=data.index,\n",
        "    y=data['Valor'],\n",
        "    mode='lines',\n",
        "    name='Valores Passados'\n",
        "))\n",
        "\n",
        "# Adicionando a linha dos valores atuais no intervalo de tempo desejado\n",
        "fig.add_trace(go.Scatter(\n",
        "    x=filtered_data.index,\n",
        "    y=filtered_data['Valor'],\n",
        "    mode='lines',\n",
        "    name='Valores Atuais'\n",
        "))\n",
        "\n",
        "# Adicionando a linha das previsões para valores futuros no intervalo de tempo desejado\n",
        "# Insira aqui o código para obter as previsões para valores futuros, se aplicável.\n",
        "\n",
        "# Definindo o layout do gráfico\n",
        "fig.update_layout(\n",
        "    title='Comparação entre Valores Passados, Valores Atuais e Previsões Futuras',\n",
        "    xaxis_title='Data',\n",
        "    yaxis_title='Valor'\n",
        ")\n",
        "\n",
        "# Exibindo o gráfico interativo\n",
        "fig.show()\n"
      ]
    },
    {
      "cell_type": "markdown",
      "metadata": {
        "id": "T0olSwfny2dK"
      },
      "source": [
        "#11 Carregando os dados de teste atualizados"
      ]
    },
    {
      "cell_type": "code",
      "source": [
        "import pandas as pd\n",
        "\n",
        "# Obter a data do próximo dia útil usando a biblioteca pandas\n",
        "proximo_dia_util = pd.Timestamp.now().normalize() + pd.offsets.BDay(1)\n",
        "\n",
        "# Criar o DataFrame com os dados do próximo dia útil\n",
        "df_pred = pd.DataFrame({'data': [proximo_dia_util], 'abertura': [0], 'alta': [0], 'baixa': [0], 'fechamento': [0], 'volume': [0]})\n",
        "\n",
        "\n"
      ],
      "metadata": {
        "id": "Klyb8TvrFB4b"
      },
      "execution_count": 44,
      "outputs": []
    },
    {
      "cell_type": "markdown",
      "metadata": {
        "id": "JoZDXPrzy4qE"
      },
      "source": [
        "#12 Tratar valores ausentes e/ou inconsistentes\n",
        "Essa é uma etapa importante do pré-processamento dos dados para garantir que o modelo seja treinado com dados confiáveis e precisos."
      ]
    },
    {
      "cell_type": "code",
      "source": [
        "# Preenchimento com média\n",
        "data.fillna(data.mean(), inplace=True)\n"
      ],
      "metadata": {
        "colab": {
          "base_uri": "https://localhost:8080/"
        },
        "id": "PnEcc9awFwTO",
        "outputId": "7cb065a2-1de3-4247-ff17-9a6330577540"
      },
      "execution_count": 45,
      "outputs": [
        {
          "output_type": "stream",
          "name": "stderr",
          "text": [
            "<ipython-input-45-fc8838cd1c89>:2: SettingWithCopyWarning:\n",
            "\n",
            "\n",
            "A value is trying to be set on a copy of a slice from a DataFrame.\n",
            "Try using .loc[row_indexer,col_indexer] = value instead\n",
            "\n",
            "See the caveats in the documentation: https://pandas.pydata.org/pandas-docs/stable/user_guide/indexing.html#returning-a-view-versus-a-copy\n",
            "\n"
          ]
        }
      ]
    },
    {
      "cell_type": "code",
      "source": [
        "# Verificando a contagem de valores ausentes antes do preenchimento\n",
        "print(data.isnull().sum())\n",
        "\n",
        "# Preenchimento com média\n",
        "data.fillna(data.mean(), inplace=True)\n",
        "\n",
        "# Verificando a contagem de valores ausentes depois do preenchimento\n",
        "print(data.isnull().sum())\n"
      ],
      "metadata": {
        "colab": {
          "base_uri": "https://localhost:8080/"
        },
        "id": "5pcLIgIYF592",
        "outputId": "edcbf1a5-265b-4374-9e23-1fac07e85d30"
      },
      "execution_count": 46,
      "outputs": [
        {
          "output_type": "stream",
          "name": "stdout",
          "text": [
            "Valor    0\n",
            "dtype: int64\n",
            "Valor    0\n",
            "dtype: int64\n"
          ]
        },
        {
          "output_type": "stream",
          "name": "stderr",
          "text": [
            "<ipython-input-46-1dbd1d190bbd>:5: SettingWithCopyWarning:\n",
            "\n",
            "\n",
            "A value is trying to be set on a copy of a slice from a DataFrame.\n",
            "Try using .loc[row_indexer,col_indexer] = value instead\n",
            "\n",
            "See the caveats in the documentation: https://pandas.pydata.org/pandas-docs/stable/user_guide/indexing.html#returning-a-view-versus-a-copy\n",
            "\n"
          ]
        }
      ]
    },
    {
      "cell_type": "code",
      "source": [
        "# Verificando a contagem de valores ausentes antes do preenchimento\n",
        "print(data.isnull().sum())\n",
        "\n",
        "# Preenchimento com média\n",
        "data.fillna(data.mean(), inplace=True)\n",
        "\n",
        "# Verificando a contagem de valores ausentes depois do preenchimento\n",
        "print(data.isnull().sum())\n",
        "\n",
        "# Verificando a contagem de valores ausentes antes do preenchimento\n",
        "print(data.isnull().sum())\n",
        "\n",
        "# Preenchimento com média\n",
        "data.fillna(data.mean(), inplace=True)\n",
        "\n",
        "# Verificando a contagem de valores ausentes depois do preenchimento\n",
        "print(data.isnull().sum())\n"
      ],
      "metadata": {
        "colab": {
          "base_uri": "https://localhost:8080/"
        },
        "id": "P8i308JzVcrh",
        "outputId": "e7f652df-e446-4811-b534-0708c1664038"
      },
      "execution_count": 47,
      "outputs": [
        {
          "output_type": "stream",
          "name": "stdout",
          "text": [
            "Valor    0\n",
            "dtype: int64\n",
            "Valor    0\n",
            "dtype: int64\n",
            "Valor    0\n",
            "dtype: int64\n",
            "Valor    0\n",
            "dtype: int64\n"
          ]
        },
        {
          "output_type": "stream",
          "name": "stderr",
          "text": [
            "<ipython-input-47-092cc97d3fc8>:5: SettingWithCopyWarning:\n",
            "\n",
            "\n",
            "A value is trying to be set on a copy of a slice from a DataFrame.\n",
            "Try using .loc[row_indexer,col_indexer] = value instead\n",
            "\n",
            "See the caveats in the documentation: https://pandas.pydata.org/pandas-docs/stable/user_guide/indexing.html#returning-a-view-versus-a-copy\n",
            "\n",
            "<ipython-input-47-092cc97d3fc8>:14: SettingWithCopyWarning:\n",
            "\n",
            "\n",
            "A value is trying to be set on a copy of a slice from a DataFrame.\n",
            "Try using .loc[row_indexer,col_indexer] = value instead\n",
            "\n",
            "See the caveats in the documentation: https://pandas.pydata.org/pandas-docs/stable/user_guide/indexing.html#returning-a-view-versus-a-copy\n",
            "\n"
          ]
        }
      ]
    },
    {
      "cell_type": "markdown",
      "metadata": {
        "id": "oZom1T5Vzu-u"
      },
      "source": [
        "# 13 Normalização dos dados"
      ]
    },
    {
      "cell_type": "code",
      "source": [
        "# Verificar valores ausentes antes do preenchimento\n",
        "print(\"Valores ausentes antes do preenchimento:\", data['Valor'].isnull().sum())\n",
        "\n",
        "# Preenchimento com média usando a coluna 'Valor'\n",
        "data['Valor'].fillna(data['Valor'].mean(), inplace=True)\n",
        "\n",
        "# Verificar valores ausentes após o preenchimento\n",
        "print(\"Valores ausentes após o preenchimento:\", data['Valor'].isnull().sum())\n"
      ],
      "metadata": {
        "colab": {
          "base_uri": "https://localhost:8080/"
        },
        "id": "khqdOvpsXpja",
        "outputId": "004831ac-ffa8-4370-b1d2-5f66ae90a43f"
      },
      "execution_count": 48,
      "outputs": [
        {
          "output_type": "stream",
          "name": "stdout",
          "text": [
            "Valores ausentes antes do preenchimento: 0\n",
            "Valores ausentes após o preenchimento: 0\n"
          ]
        },
        {
          "output_type": "stream",
          "name": "stderr",
          "text": [
            "<ipython-input-48-9add5d5dd590>:5: SettingWithCopyWarning:\n",
            "\n",
            "\n",
            "A value is trying to be set on a copy of a slice from a DataFrame\n",
            "\n",
            "See the caveats in the documentation: https://pandas.pydata.org/pandas-docs/stable/user_guide/indexing.html#returning-a-view-versus-a-copy\n",
            "\n"
          ]
        }
      ]
    },
    {
      "cell_type": "code",
      "source": [
        "# Verificar valores ausentes antes do preenchimento\n",
        "print(\"Valores ausentes antes do preenchimento:\", data['Valor'].isnull().sum())\n",
        "\n",
        "# Preenchimento com média usando a coluna 'Valor'\n",
        "data.loc[:, 'Valor'] = data['Valor'].fillna(data['Valor'].mean())\n",
        "\n",
        "# Verificar valores ausentes após o preenchimento\n",
        "print(\"Valores ausentes após o preenchimento:\", data['Valor'].isnull().sum())\n"
      ],
      "metadata": {
        "colab": {
          "base_uri": "https://localhost:8080/"
        },
        "id": "wQih7JcMaF23",
        "outputId": "8fd0c355-4bb8-4aa9-edb1-b27e3a93078f"
      },
      "execution_count": 49,
      "outputs": [
        {
          "output_type": "stream",
          "name": "stdout",
          "text": [
            "Valores ausentes antes do preenchimento: 0\n",
            "Valores ausentes após o preenchimento: 0\n"
          ]
        },
        {
          "output_type": "stream",
          "name": "stderr",
          "text": [
            "<ipython-input-49-b03e48889b20>:5: SettingWithCopyWarning:\n",
            "\n",
            "\n",
            "A value is trying to be set on a copy of a slice from a DataFrame.\n",
            "Try using .loc[row_indexer,col_indexer] = value instead\n",
            "\n",
            "See the caveats in the documentation: https://pandas.pydata.org/pandas-docs/stable/user_guide/indexing.html#returning-a-view-versus-a-copy\n",
            "\n"
          ]
        }
      ]
    },
    {
      "cell_type": "code",
      "source": [
        "import yfinance as yf\n",
        "import pandas as pd\n",
        "\n",
        "# Definir o símbolo do ticker\n",
        "ticker_symbol = 'BBDC4.SA'  \n",
        "# Obter os dados históricos do Yahoo Finance\n",
        "data = yf.download(ticker_symbol, start='2022-01-01', end='2022-12-31')\n",
        "\n",
        "# Verificar valores ausentes antes do preenchimento\n",
        "print(\"Valores ausentes antes do preenchimento:\")\n",
        "print(data[['Low', 'Close', 'Adj Close', 'Volume']].isnull().sum())\n",
        "\n",
        "# Preenchimento com média usando as colunas 'Low', 'Close', 'Adj Close' e 'Volume'\n",
        "data[['Low', 'Close', 'Adj Close', 'Volume']] = data[['Low', 'Close', 'Adj Close', 'Volume']].fillna(data.mean())\n",
        "\n",
        "# Verificar valores ausentes após o preenchimento\n",
        "print(\"Valores ausentes após o preenchimento:\")\n",
        "print(data[['Low', 'Close', 'Adj Close', 'Volume']].isnull().sum())\n"
      ],
      "metadata": {
        "colab": {
          "base_uri": "https://localhost:8080/"
        },
        "id": "wJ0efLMxPsFM",
        "outputId": "d069ec6e-e0c8-4320-9e42-004e534b60e0"
      },
      "execution_count": 50,
      "outputs": [
        {
          "output_type": "stream",
          "name": "stdout",
          "text": [
            "\r[*********************100%***********************]  1 of 1 completed\n",
            "Valores ausentes antes do preenchimento:\n",
            "Low          0\n",
            "Close        0\n",
            "Adj Close    0\n",
            "Volume       0\n",
            "dtype: int64\n",
            "Valores ausentes após o preenchimento:\n",
            "Low          0\n",
            "Close        0\n",
            "Adj Close    0\n",
            "Volume       0\n",
            "dtype: int64\n"
          ]
        }
      ]
    },
    {
      "cell_type": "markdown",
      "metadata": {
        "id": "MDKLdhmuzxwt"
      },
      "source": [
        "# 14 Criação de novas variaveis\n",
        "\n",
        "A criação de novas variáveis pode ajudar a melhorar o desempenho do modelo, fornecendo informações adicionais que podem ser relevantes para a previsão. Veja um exemplo de código para criar novas variáveis com base em médias móveis e diferenças de preços.\n",
        "\n",
        "Iremos criar novas variáveis com base em médias móveis (SMA) e diferenças de preços"
      ]
    },
    {
      "cell_type": "code",
      "source": [
        "import pandas as pd\n",
        "\n",
        "# Definir janela da média móvel\n",
        "window = 5\n",
        "\n",
        "# Criar a média móvel simples (SMA) da coluna 'Close'\n",
        "data['SMA'] = data['Close'].rolling(window=window).mean()\n",
        "\n",
        "# Criar a diferença de preços entre o dia atual e o dia anterior\n",
        "data['PriceDiff'] = data['Close'].diff()\n",
        "\n",
        "# Criar uma variável binária indicando se houve aumento ou diminuição de preço em relação ao dia anterior\n",
        "data['PriceChange'] = data['PriceDiff'].apply(lambda x: 1 if x > 0 else 0)\n",
        "\n",
        "# Visualizar as primeiras linhas do DataFrame com as novas variáveis criadas\n",
        "print(data.head())\n"
      ],
      "metadata": {
        "colab": {
          "base_uri": "https://localhost:8080/"
        },
        "id": "QrSMg34Clv2g",
        "outputId": "dc371062-086f-456b-fb8f-f8ac3c7b67ea"
      },
      "execution_count": 51,
      "outputs": [
        {
          "output_type": "stream",
          "name": "stdout",
          "text": [
            "                 Open       High        Low      Close  Adj Close     Volume  \\\n",
            "Date                                                                           \n",
            "2022-01-03  17.645454  18.109091  17.590908  17.900000  16.674225   35620970   \n",
            "2022-01-04  17.890909  18.109091  17.790909  18.000000  16.783552  110060060   \n",
            "2022-01-05  17.954544  18.109091  17.700001  17.872726  16.664877   45808070   \n",
            "2022-01-06  17.809090  18.172728  17.772726  18.127272  16.902225   36651120   \n",
            "2022-01-07  18.154545  18.390909  17.745455  18.390909  17.148043   84778540   \n",
            "\n",
            "                  SMA  PriceDiff  PriceChange  \n",
            "Date                                           \n",
            "2022-01-03        NaN        NaN            0  \n",
            "2022-01-04        NaN   0.100000            1  \n",
            "2022-01-05        NaN  -0.127274            0  \n",
            "2022-01-06        NaN   0.254545            1  \n",
            "2022-01-07  18.058181   0.263638            1  \n"
          ]
        }
      ]
    },
    {
      "cell_type": "markdown",
      "metadata": {
        "id": "W_GrzbpPz7Gc"
      },
      "source": [
        "# 15 Treinar Modelos\n",
        "\n",
        "Logo abaixo usaremos um código que realizará a busca em grade para selecionar os melhores parâmetros para um modelo de regressão linear.\n",
        "\n",
        "Utilizamos o StandardScaler para normalizar os dados de entrada, e em seguida realizamos a busca em grade com validação cruzada para selecionar os melhores parâmetros para o modelo de regressão linear. Depois, ajustamos o modelo aos dados de treinamento com os melhores parâmetros e avaliamos seu desempenho nos dados de teste."
      ]
    },
    {
      "cell_type": "code",
      "execution_count": 52,
      "metadata": {
        "id": "3XaZrPJ5AW3x",
        "colab": {
          "base_uri": "https://localhost:8080/"
        },
        "outputId": "37845bd8-2cc3-4336-f8f6-0889a013e236"
      },
      "outputs": [
        {
          "output_type": "stream",
          "name": "stdout",
          "text": [
            "Melhores parâmetros encontrados: {'regression__fit_intercept': True}\n",
            "Erro médio quadrado (MSE): 0.020924095554628416\n"
          ]
        }
      ],
      "source": [
        "from sklearn.linear_model import LinearRegression\n",
        "from sklearn.model_selection import GridSearchCV\n",
        "from sklearn.preprocessing import StandardScaler\n",
        "from sklearn.pipeline import Pipeline\n",
        "from sklearn.model_selection import train_test_split\n",
        "from sklearn.metrics import mean_squared_error\n",
        "from sklearn.impute import SimpleImputer\n",
        "\n",
        "target_variable = 'Adj Close'\n",
        "\n",
        "# Separar os dados de entrada (X) e a variável alvo (y)\n",
        "X = data.drop(target_variable, axis=1)\n",
        "y = data[target_variable]\n",
        "\n",
        "# Dividir os dados em conjuntos de treinamento e teste\n",
        "X_train, X_test, y_train, y_test = train_test_split(X, y, test_size=0.2, random_state=42)\n",
        "\n",
        "# Criar um pipeline com o scaler, imputer e o modelo de regressão linear\n",
        "pipeline = Pipeline([\n",
        "    ('imputer', SimpleImputer(strategy='mean')),\n",
        "    ('scaler', StandardScaler()),\n",
        "    ('regression', LinearRegression())\n",
        "])\n",
        "\n",
        "# Definir os parâmetros para busca em grade\n",
        "params = {\n",
        "    'regression__fit_intercept': [True, False]\n",
        "}\n",
        "\n",
        "# Realizar a busca em grade com validação cruzada\n",
        "grid_search = GridSearchCV(pipeline, params, cv=5, scoring='neg_mean_squared_error')\n",
        "grid_search.fit(X_train, y_train)\n",
        "\n",
        "# Obter os melhores parâmetros encontrados\n",
        "best_params = grid_search.best_params_\n",
        "\n",
        "# Atualizar o pipeline com os melhores parâmetros\n",
        "pipeline.set_params(**best_params)\n",
        "\n",
        "# Treinar o modelo com os dados de treinamento\n",
        "pipeline.fit(X_train, y_train)\n",
        "\n",
        "# Fazer previsões nos dados de teste\n",
        "y_pred = pipeline.predict(X_test)\n",
        "\n",
        "# Calcular o erro médio quadrado (MSE) nas previsões\n",
        "mse = mean_squared_error(y_test, y_pred)\n",
        "\n",
        "# Imprimir os melhores parâmetros e o MSE\n",
        "print(\"Melhores parâmetros encontrados:\", best_params)\n",
        "print(\"Erro médio quadrado (MSE):\", mse)\n"
      ]
    },
    {
      "cell_type": "code",
      "source": [],
      "metadata": {
        "id": "YtUAy_hamvy7"
      },
      "execution_count": 52,
      "outputs": []
    }
  ],
  "metadata": {
    "colab": {
      "provenance": [],
      "authorship_tag": "ABX9TyOTue8K5xRwfgrHIKOMV2Vi",
      "include_colab_link": true
    },
    "kernelspec": {
      "display_name": "Python 3",
      "name": "python3"
    },
    "language_info": {
      "name": "python"
    }
  },
  "nbformat": 4,
  "nbformat_minor": 0
}
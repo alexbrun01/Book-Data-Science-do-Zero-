{
  "nbformat": 4,
  "nbformat_minor": 0,
  "metadata": {
    "colab": {
      "provenance": [],
      "authorship_tag": "ABX9TyNBFhEVcnncyT8Ht3Trw7iK",
      "include_colab_link": true
    },
    "kernelspec": {
      "name": "python3",
      "display_name": "Python 3"
    },
    "language_info": {
      "name": "python"
    }
  },
  "cells": [
    {
      "cell_type": "markdown",
      "metadata": {
        "id": "view-in-github",
        "colab_type": "text"
      },
      "source": [
        "<a href=\"https://colab.research.google.com/github/alexbrun01/Book-Data-Science-do-Zero-/blob/main/Book_Data_Science_do_zero.ipynb\" target=\"_parent\"><img src=\"https://colab.research.google.com/assets/colab-badge.svg\" alt=\"Open In Colab\"/></a>"
      ]
    },
    {
      "cell_type": "markdown",
      "source": [
        "### 1.0 Encontrando conectores chaves "
      ],
      "metadata": {
        "id": "Gr8_HVcg2HXw"
      }
    },
    {
      "cell_type": "code",
      "source": [
        "users = [{\"id\":0,\"name\": \"Hero\"},\n",
        "         {\"id\":1,\"name\": \"Dunn\"},\n",
        "         {\"id\":2,\"name\": \"Sue\"},\n",
        "         {\"id\":3,\"name\": \"Chi\"},\n",
        "         {\"id\":4,\"name\": \"Thor\"},\n",
        "         {\"id\":5,\"name\": \"Clive\"},\n",
        "         {\"id\":6,\"name\": \"Hicks\"},\n",
        "         {\"id\":7,\"name\": \"Devin\"},\n",
        "         {\"id\":8,\"name\": \"Kate\"},\n",
        "         {\"id\":9,\"name\": \"Klein\"}]"
      ],
      "metadata": {
        "id": "a-O0DT9l2Sn6"
      },
      "execution_count": null,
      "outputs": []
    },
    {
      "cell_type": "code",
      "source": [
        "friendships = [ (0,1), (0,2), (1,2), (1,3), (2,3), (3,4), (4,5), (5,6), (5,7), (6,8), (7,8), (8,9) ]"
      ],
      "metadata": {
        "id": "N8Sl8GrF29wE"
      },
      "execution_count": null,
      "outputs": []
    },
    {
      "cell_type": "markdown",
      "source": [
        "É possivel criar uma rede com essas informações em friendships"
      ],
      "metadata": {
        "id": "P2gWUM-N3hgD"
      }
    },
    {
      "cell_type": "markdown",
      "source": [
        "\n",
        "\n",
        "```\n",
        "# Isto está formatado como código\n",
        "```\n",
        "\n",
        "### 1.1 Desafio  "
      ],
      "metadata": {
        "id": "ySFEuclI5Ob0"
      }
    },
    {
      "cell_type": "markdown",
      "source": [
        "Imagine que queiramos adicionar uma lista de amigos para cada usuario. "
      ],
      "metadata": {
        "id": "AJCfB7gC5WsG"
      }
    },
    {
      "cell_type": "markdown",
      "source": [
        "R- Para adicionar uma lista para cada usuario, primeiro nós devemos configurar a propriedade friends de cada usuário e uma lista vazia "
      ],
      "metadata": {
        "id": "Z6HSZrL55eyz"
      }
    },
    {
      "cell_type": "code",
      "source": [
        "for user in users: \n",
        "  user[\"friends\"] = []"
      ],
      "metadata": {
        "id": "6Ochalae5yoS"
      },
      "execution_count": null,
      "outputs": []
    },
    {
      "cell_type": "markdown",
      "source": [
        "## Agora, nós povoamos a lista com dados de friendships:"
      ],
      "metadata": {
        "id": "M3H2VAvh5-Vx"
      }
    },
    {
      "cell_type": "code",
      "source": [
        "for i, j in friendships:\n",
        "  # Isso funciona porque usuario [i] é o usuariuo cuja id é i  \n",
        "  users[i][\"friends\"] .append(users[j]) # adiciona i como um amigo de j\n",
        "  users[j][\"friends\"] .append(users[i]) # adiciona j como um amigo de i"
      ],
      "metadata": {
        "id": "Z5Vf1Oll7UDv"
      },
      "execution_count": null,
      "outputs": []
    },
    {
      "cell_type": "markdown",
      "source": [
        "Uma vez que dict de cada usuário contenha uma lista de amigos, podemos facilmente perguntar sobre nosso gráfico. \n",
        "\n",
        "\" Qual é o numero médio de conexões ?\"\n"
      ],
      "metadata": {
        "id": "gO2Q6-QHAzUA"
      }
    },
    {
      "cell_type": "markdown",
      "source": [
        "# R - \n",
        "Para encontrarmos o numero médio de conexões, primeiro, devemos encontrar um número total de conexões, resumindo os tamanhos de todas as lista de amigos ( Friends):"
      ],
      "metadata": {
        "id": "-Vi77TyY9H9S"
      }
    },
    {
      "cell_type": "code",
      "source": [
        "def number_of_friends(user):\n",
        "  # \"Quantos amigos o usuário tem ?\"\n",
        "  return len(user[\"friends\"])\n",
        "  #\"Tamanho da lista friend_ids\""
      ],
      "metadata": {
        "id": "YoGTIFqAEJeE"
      },
      "execution_count": null,
      "outputs": []
    },
    {
      "cell_type": "code",
      "source": [
        "total_connections = sum(number_of_friends(user) for user in users)"
      ],
      "metadata": {
        "id": "K2S0VzQrEOot"
      },
      "execution_count": null,
      "outputs": []
    },
    {
      "cell_type": "markdown",
      "source": [
        "Então agora dividimos pelo número de usuários:"
      ],
      "metadata": {
        "id": "I5OXKKeQFxf7"
      }
    },
    {
      "cell_type": "code",
      "source": [
        "total_connections = sum(number_of_friends(user) for user in users)\n",
        "# Divisão interia está incompleta\n",
        "\n",
        "num_users = len(users)\n",
        "# Tamanho da lista de usuários\n",
        "\n",
        "avg_connections = total_connections / num_users"
      ],
      "metadata": {
        "id": "EjK6SZkmFwtx"
      },
      "execution_count": null,
      "outputs": []
    },
    {
      "cell_type": "markdown",
      "source": [
        "## 1.2.0 Desafio "
      ],
      "metadata": {
        "id": "VlfBKvCoFnHH"
      }
    },
    {
      "cell_type": "markdown",
      "source": [
        "Como encontrar as pessoas mais conectadas "
      ],
      "metadata": {
        "id": "LROPgZ06VFWh"
      }
    },
    {
      "cell_type": "markdown",
      "source": [
        "R- As pessoas mais conectadas são as que possuem o maior número de amigos \n",
        "\n",
        "Como não há muitos usuários, podemos ordená-los de \"muito amigos\" para \" menos amigos\":\n"
      ],
      "metadata": {
        "id": "Qz18lCjYVXGS"
      }
    },
    {
      "cell_type": "code",
      "source": [
        "# vamos criar um lista (user_id, number_of_friends)\n",
        "num_friends_by_id = [(user[\"id\"], number_of_friends(user)) for user in  users]"
      ],
      "metadata": {
        "id": "lOckGMGfV5T8"
      },
      "execution_count": null,
      "outputs": []
    },
    {
      "cell_type": "code",
      "source": [
        "# Vamos classficar por número de amigos do maior para o menor \n",
        "sorted(num_friends_by_id, key=lambda(user_id, num_friends): num_friends, reverse=True)"
      ],
      "metadata": {
        "colab": {
          "base_uri": "https://localhost:8080/",
          "height": 130
        },
        "id": "KZmIAzsvWdph",
        "outputId": "bc1cbe7e-0a05-4b5f-a12a-68f14188a6ad"
      },
      "execution_count": null,
      "outputs": [
        {
          "output_type": "error",
          "ename": "SyntaxError",
          "evalue": "ignored",
          "traceback": [
            "\u001b[0;36m  File \u001b[0;32m\"<ipython-input-38-bd63abc447b1>\"\u001b[0;36m, line \u001b[0;32m2\u001b[0m\n\u001b[0;31m    sorted(num_friends_by_id, key=lambda(user_id, num_friends): num_friends, reverse=True)\u001b[0m\n\u001b[0m                                        ^\u001b[0m\n\u001b[0;31mSyntaxError\u001b[0m\u001b[0;31m:\u001b[0m invalid syntax\n"
          ]
        }
      ]
    },
    {
      "cell_type": "markdown",
      "source": [
        "Não podemos tentar descompactar o valor do elemento passado para a lambda e depois classificá-lo pelo segundo argumento.\n",
        "\n",
        "Logo você não pode realizar a descompactação nos argumentos da função lambda. \n",
        "\n",
        "Em vez disso, como sabemos que cada elemento em sua lista é uma tupla com o primeiro elemento sendo \"user_id\" e o segundo sendo o \"num_friends\", podemos acessar o segundo elemento de cada tupla atraves da função , índice (indexação zero) 1, \"user_id[1]\"\n",
        "\n",
        "E usando isso podemos classificar a lista para num_friends:"
      ],
      "metadata": {
        "id": "D5qkgqTwfPwV"
      }
    },
    {
      "cell_type": "code",
      "source": [
        "sorted(num_friends_by_id, key=lambda user_id: user_id[1], reverse=True)"
      ],
      "metadata": {
        "id": "Qh88G1K_bJNo",
        "colab": {
          "base_uri": "https://localhost:8080/"
        },
        "outputId": "b399cf1e-6f1e-411e-b67f-1c7c3502d3f8"
      },
      "execution_count": null,
      "outputs": [
        {
          "output_type": "execute_result",
          "data": {
            "text/plain": [
              "[(1, 3),\n",
              " (2, 3),\n",
              " (3, 3),\n",
              " (5, 3),\n",
              " (8, 3),\n",
              " (0, 2),\n",
              " (4, 2),\n",
              " (6, 2),\n",
              " (7, 2),\n",
              " (9, 1)]"
            ]
          },
          "metadata": {},
          "execution_count": 12
        }
      ]
    },
    {
      "cell_type": "markdown",
      "source": [
        "Acabamos de computar uma rede métrica de  grau de centralidade, ou uma maneira de pensar sobre o que nós fizemos é uma maneira de identificar pessoas que são, de alguma forma, importantes para a rede."
      ],
      "metadata": {
        "id": "hphIV97qgbjF"
      }
    },
    {
      "cell_type": "markdown",
      "source": [
        "## 2. 0 Um cintista de dados que você talvez conheça "
      ],
      "metadata": {
        "id": "TxkWtF9QrmdW"
      }
    },
    {
      "cell_type": "markdown",
      "source": [
        "A vp da fraternindade deseja que haja mais estimulo nas conexões entre os membros, e pede que você desenvolva sugestões \n"
      ],
      "metadata": {
        "id": "Ocrz6Dk-saFx"
      }
    },
    {
      "cell_type": "markdown",
      "source": [
        "Seu primeiro instinto é sugerir um  usuário que possa conhecer amigos de amigos. \n",
        "\n",
        "isso porque eles são fáceis de computar: Para cada amigo de um usario, itera sobre os amigos daquela pessoa, e coleta todos os resultados:\n"
      ],
      "metadata": {
        "id": "PoS0TwT40JEG"
      }
    },
    {
      "cell_type": "code",
      "source": [
        "def friends_of_friends_ids_bad(user):\n",
        "  #   Isso retorna certos amigos de amigos várias vezes e também retorna amigos de amigos que já são amigos de _user_\n",
        "  #   \"Foaf\" é abreviação de \"Friend of a friend\"\n",
        "  #   para cada um dos amigos do usuário, obtenha cada um dos _their_friends\n",
        "  return [foaf[\"id\"] for friend in user[\"friends\"] for foaf in friend[\"friends\"]] \n"
      ],
      "metadata": {
        "id": "hgwVRp2c28zE"
      },
      "execution_count": null,
      "outputs": []
    },
    {
      "cell_type": "code",
      "source": [
        "def not_the_same(user, other_user):\n",
        "  #dois usarios não são os mesmos se possuem ids diferentes,\n",
        "  return user[\"id\"] != other_user[\"id\"]"
      ],
      "metadata": {
        "id": "typaqvDI77_i"
      },
      "execution_count": null,
      "outputs": []
    },
    {
      "cell_type": "code",
      "source": [
        "def not_friends(user, other_user):\n",
        "  #other_user não é um amigo se não está em user[\"friends\"]; isso é, se é not_the_same com todas as pessoas em user[\"friends\"]\n",
        "    return all(not_the_same(friend, other_user) for friend in user [\"friends\"])"
      ],
      "metadata": {
        "id": "LJT6ujxh9apj"
      },
      "execution_count": null,
      "outputs": []
    },
    {
      "cell_type": "code",
      "source": [
        "# Amigos de amigos para o usuario\n",
        "def friends_of_friend_ids(user):\n",
        "    return Counter(foaf[\"id\"] for friend in user[\"friends\"] # Para cada um dos meus amigos\n",
        "                   for foaf in friend[\"friends\"] # Que contam *their* amigos\n",
        "                   if not_the_same(user, foaf) # Que não sejam eu \n",
        "                   and not_friends(user, foaf))# E que não são meus amigos "
      ],
      "metadata": {
        "id": "_Im35-rFAAMn"
      },
      "execution_count": null,
      "outputs": []
    },
    {
      "cell_type": "code",
      "source": [
        "def friends_of_friends(user):\n",
        "    user_id = user[\"id\"]\n",
        "    return Counter(\n",
        "        foaf_id\n",
        "        for friend_id in friendships[user_id]     \n",
        "        for foaf_id in friendships[friend_id]     \n",
        "        if foaf_id != user_id                     \n",
        "        and foaf_id not in friendships[user_id]   \n",
        "    )"
      ],
      "metadata": {
        "id": "TYa4hrHltgSN"
      },
      "execution_count": null,
      "outputs": []
    },
    {
      "cell_type": "code",
      "source": [
        "print(friends_of_friends user(2)) "
      ],
      "metadata": {
        "colab": {
          "base_uri": "https://localhost:8080/",
          "height": 287
        },
        "id": "pBwWjvjEBaU2",
        "outputId": "b1b3391d-7c7b-4f95-830d-777752beecff"
      },
      "execution_count": null,
      "outputs": [
        {
          "output_type": "error",
          "ename": "TypeError",
          "evalue": "ignored",
          "traceback": [
            "\u001b[0;31m---------------------------------------------------------------------------\u001b[0m",
            "\u001b[0;31mTypeError\u001b[0m                                 Traceback (most recent call last)",
            "\u001b[0;32m<ipython-input-29-b1d017fad343>\u001b[0m in \u001b[0;36m<module>\u001b[0;34m\u001b[0m\n\u001b[0;32m----> 1\u001b[0;31m \u001b[0mprint\u001b[0m\u001b[0;34m(\u001b[0m\u001b[0mfriends_of_friends\u001b[0m\u001b[0;34m(\u001b[0m\u001b[0;36m2\u001b[0m\u001b[0;34m)\u001b[0m\u001b[0;34m)\u001b[0m\u001b[0;34m\u001b[0m\u001b[0;34m\u001b[0m\u001b[0m\n\u001b[0m",
            "\u001b[0;32m<ipython-input-26-79ba6d144528>\u001b[0m in \u001b[0;36mfriends_of_friends\u001b[0;34m(user)\u001b[0m\n\u001b[1;32m      1\u001b[0m \u001b[0;32mdef\u001b[0m \u001b[0mfriends_of_friends\u001b[0m\u001b[0;34m(\u001b[0m\u001b[0muser\u001b[0m\u001b[0;34m)\u001b[0m\u001b[0;34m:\u001b[0m\u001b[0;34m\u001b[0m\u001b[0;34m\u001b[0m\u001b[0m\n\u001b[0;32m----> 2\u001b[0;31m     \u001b[0muser_id\u001b[0m \u001b[0;34m=\u001b[0m \u001b[0muser\u001b[0m\u001b[0;34m[\u001b[0m\u001b[0;34m\"id\"\u001b[0m\u001b[0;34m]\u001b[0m\u001b[0;34m\u001b[0m\u001b[0;34m\u001b[0m\u001b[0m\n\u001b[0m\u001b[1;32m      3\u001b[0m     return Counter(\n\u001b[1;32m      4\u001b[0m         \u001b[0mfoaf_id\u001b[0m\u001b[0;34m\u001b[0m\u001b[0;34m\u001b[0m\u001b[0m\n\u001b[1;32m      5\u001b[0m         \u001b[0;32mfor\u001b[0m \u001b[0mfriend_id\u001b[0m \u001b[0;32min\u001b[0m \u001b[0mfriendships\u001b[0m\u001b[0;34m[\u001b[0m\u001b[0muser_id\u001b[0m\u001b[0;34m]\u001b[0m\u001b[0;34m\u001b[0m\u001b[0;34m\u001b[0m\u001b[0m\n",
            "\u001b[0;31mTypeError\u001b[0m: 'int' object is not subscriptable"
          ]
        }
      ]
    },
    {
      "cell_type": "markdown",
      "source": [
        "# 3.0 Como cintista de dados, você sabe que você pode gostar de encontrar usuarios com interesses similares \n",
        "(Esse é um bom exemplo do aspecto \"Competêcia significativa\" de data science). Depois de perguntar por ai, você pôr as mãos nesse dado, como uma lista de pares(User_id, interest): "
      ],
      "metadata": {
        "id": "2Zt55O3CvQWM"
      }
    },
    {
      "cell_type": "code",
      "source": [
        "interests = [ (0, \"Hadoop\"), (0, \"Big Data\"), (0, \"HBase\"), (0, \"Java\"),\n",
        "    (0, \"Spark\"), (0, \"Storm\"), (0, \"Cassandra\"),\n",
        "    (1, \"NoSQL\"), (1, \"MongoDB\"), (1, \"Cassandra\"), (1, \"HBase\"),\n",
        "    (1, \"Postgres\"), (2, \"Python\"), (2, \"scikit-learn\"), (2, \"scipy\"),\n",
        "    (2, \"numpy\"), (2, \"statsmodels\"), (2, \"pandas\"), (3, \"R\"), (3, \"Python\"),\n",
        "    (3, \"statistics\"), (3, \"regression\"), (3, \"probability\"),\n",
        "    (4, \"machine learning\"), (4, \"regression\"), (4, \"decision trees\"),\n",
        "    (4, \"libsvm\"), (5, \"Python\"), (5, \"R\"), (5, \"Java\"), (5, \"C++\"),\n",
        "    (5, \"Haskell\"), (5, \"programming languages\"), (6, \"statistics\"),\n",
        "    (6, \"probability\"), (6, \"mathematics\"), (6, \"theory\"),\n",
        "    (7, \"machine learning\"), (7, \"scikit-learn\"), (7, \"Mahout\"),\n",
        "    (7, \"neural networks\"), (8, \"neural networks\"), (8, \"deep learning\"),\n",
        "    (8, \"Big Data\"), (8, \"artificial intelligence\"), (9, \"Hadoop\"),\n",
        "    (9, \"Java\"), (9, \"MapReduce\"), (9, \"Big Data\")\n",
        "]"
      ],
      "metadata": {
        "id": "Te-6hvhOs3GZ"
      },
      "execution_count": null,
      "outputs": []
    },
    {
      "cell_type": "markdown",
      "source": [
        "#DESAFIO\n",
        "Vamos construir uma função que encontre usuários com o mesmo interesse:"
      ],
      "metadata": {
        "id": "Pkntlji1H2-6"
      }
    },
    {
      "cell_type": "code",
      "source": [
        "def data_scientists_who_like(target_interest):\n",
        "    # Não é muito eficiente pois a lista de interesses deve ser examinada para cada busca. \n",
        "    # Examinada para cada pesquisa \n",
        "    return [user_id for user_id, user_interest in interests \n",
        "            if user_interest == target_interest]"
      ],
      "metadata": {
        "id": "LcHG7--BJvmj"
      },
      "execution_count": null,
      "outputs": []
    },
    {
      "cell_type": "markdown",
      "source": [
        "Se tivermos muitos usuários e interesses (ou se quisermos fazer muitas buscas), seria melhor construir um índice de interesse para usuarios: "
      ],
      "metadata": {
        "id": "tBWJCLpcJ-bj"
      }
    },
    {
      "cell_type": "code",
      "source": [
        "from collections import defaultdict"
      ],
      "metadata": {
        "id": "xma0Gj_VNGb2"
      },
      "execution_count": null,
      "outputs": []
    },
    {
      "cell_type": "code",
      "source": [
        "# As chaves são interesses, os valores são listas de user_ids com interesrts user_ids_by_interest = defaultdict(list) (Usuáio para interesses)"
      ],
      "metadata": {
        "id": "UQExmUvWNPkF"
      },
      "execution_count": null,
      "outputs": []
    },
    {
      "cell_type": "code",
      "source": [
        "user_ids_by_interest = defaultdict(list)\n"
      ],
      "metadata": {
        "id": "hJwCeCfyO1pv"
      },
      "execution_count": null,
      "outputs": []
    },
    {
      "cell_type": "code",
      "source": [
        " for user_id, interest in interests:\n",
        "  user_ids_by_interest[interest].append(user_id)\n"
      ],
      "metadata": {
        "id": "7TxAIMdiNwI0"
      },
      "execution_count": null,
      "outputs": []
    },
    {
      "cell_type": "markdown",
      "source": [
        "\n",
        " E outra de usuários para interesesses: "
      ],
      "metadata": {
        "id": "Ii4scKpdObQz"
      }
    },
    {
      "cell_type": "code",
      "source": [
        "# As chaves são user_ids, os valores são as listas de interesses para aquele user_id "
      ],
      "metadata": {
        "id": "qiNY9WP1Q4RY"
      },
      "execution_count": null,
      "outputs": []
    },
    {
      "cell_type": "code",
      "source": [
        "interests_by_user_id = defaultdict(list)"
      ],
      "metadata": {
        "id": "RzQRqNnPadIl"
      },
      "execution_count": null,
      "outputs": []
    },
    {
      "cell_type": "code",
      "source": [
        "for user_id, interest in interests:\n",
        "  interests_by_user_id[user_id].append(interest)"
      ],
      "metadata": {
        "id": "aL9J2jOBShDZ"
      },
      "execution_count": null,
      "outputs": []
    },
    {
      "cell_type": "markdown",
      "source": [
        "Agora fica facil de descobri quem possui maiores interesses em comu com um certo usuário: \n",
        "\n",
        "° Itera sobre os interesses do usuário.\n",
        "\n",
        "° Para cada interesse, itera sobre os outros usuários com aquele interesse.\n",
        "\n",
        "° Mantém a contagem de quantas vezes vermos cada outro usuário.\n"
      ],
      "metadata": {
        "id": "6610ZnAsaDEy"
      }
    },
    {
      "cell_type": "code",
      "source": [
        "def most_common_interests_with(user):\n",
        "  return Counter(interessted_user_id\n",
        "                 for interest in interests_by_user_id[user[\"id\"]]\n",
        "                 for interest_user_id in user_ids_by_interest[interest]\n",
        "                 if interest_user_id != user[\"id\"])"
      ],
      "metadata": {
        "id": "UCcT_G4FbTlI"
      },
      "execution_count": null,
      "outputs": []
    },
    {
      "cell_type": "markdown",
      "source": [
        "No capitulo 22 vamos explorar esses tipos de aplicações para construir recursos mais ricos de \" Cientistas de Dados, os quais você deve conhecer\""
      ],
      "metadata": {
        "id": "k5ma1GDTeISi"
      }
    },
    {
      "cell_type": "markdown",
      "source": [
        "# 4.0 Salários e Experiência "
      ],
      "metadata": {
        "id": "4FgvNg_wfsWx"
      }
    },
    {
      "cell_type": "markdown",
      "source": [
        "Dados de salário é, de fato, um tópico sesível, mas ele consegue fornecer um conjunto de dados anônimos contendo o salario (salary) de cada usuário (em dólares) e experiência (tenure) como um cientista de dados (em anos)  "
      ],
      "metadata": {
        "id": "9fAzyr1_gHEQ"
      }
    },
    {
      "cell_type": "code",
      "source": [
        "salaries_and_tenures = [(8300, 8.7), (88000, 8.1), \n",
        "                        (48000, 0.7), (76000, 6), \n",
        "                        (69000, 6.5),(7600, 7.5), \n",
        "                        (60000, 2.5), (83000, 10), \n",
        "                        (48000, 1.9), (63000, 4.2)]"
      ],
      "metadata": {
        "id": "NvulpYdDhSof"
      },
      "execution_count": null,
      "outputs": []
    },
    {
      "cell_type": "markdown",
      "source": [
        "Naturalmente, o primeiro passo é traçar os dados ( veremos como fazer no  Cap 3)\n",
        "\n",
        "- Fica bem claro que os que possuem mais experiência tendem a receber mais. \n",
        "\n",
        "- Como podemos transformar isso em um fato curioso ?\n",
        "\n",
        "R - A primeira ideia é analisar a média salarial para cada ano:\n"
      ],
      "metadata": {
        "id": "ZiXRUjMWiNjE"
      }
    },
    {
      "cell_type": "code",
      "source": [
        "# As chaves são os anos, os valores são as listas dos salários para cada ano \n",
        "salary_by_tenure = defaultdict(list)"
      ],
      "metadata": {
        "id": "BffjMCKZjkDG"
      },
      "execution_count": null,
      "outputs": []
    },
    {
      "cell_type": "code",
      "source": [
        "for salary, tenure in salaries_and_tenures:\n",
        "  salary_by_tenure[tenure].append(salary)"
      ],
      "metadata": {
        "id": "zP8UcHyIj4BC"
      },
      "execution_count": null,
      "outputs": []
    },
    {
      "cell_type": "code",
      "source": [
        "# As chaves são os anos, cada valor é a media salarial para aquele ano \n",
        "average_salary_by_tenure = {\n",
        "    tenure: sum(salaries) / len(salaries)\n",
        "    for tenure, salaries in salary_by_tenure.items()\n",
        "}"
      ],
      "metadata": {
        "id": "8p1EPV6jkdDJ"
      },
      "execution_count": null,
      "outputs": []
    },
    {
      "cell_type": "markdown",
      "source": [
        "Não é muito útil, já que nenhum dos usurários possui o mesmo caso, o que siginifica que estamos repotando apenas salários individuais dos usuários:"
      ],
      "metadata": {
        "id": "TFwXBQmblBuJ"
      }
    },
    {
      "cell_type": "code",
      "source": [
        "assert average_salary_by_tenure == {\n",
        "    0.7: 48000.0,\n",
        "    1.9: 48000.0,\n",
        "    2.5: 60000.0,\n",
        "    4.2: 63000.0,\n",
        "    6: 76000.0,\n",
        "    6.5: 69000.0,\n",
        "    7.5: 76000.0,\n",
        "    8.1: 88000.0,\n",
        "    8.7: 83000.0,\n",
        "    10: 83000.0\n",
        "}"
      ],
      "metadata": {
        "id": "QdGghJWpnoyO"
      },
      "execution_count": null,
      "outputs": []
    },
    {
      "cell_type": "code",
      "source": [],
      "metadata": {
        "id": "bU4Ay3dAnpQF"
      },
      "execution_count": null,
      "outputs": []
    }
  ]
}